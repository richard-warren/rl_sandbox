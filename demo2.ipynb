{
 "cells": [
  {
   "cell_type": "markdown",
   "metadata": {},
   "source": [
    "# gridworld\n",
    "This is a simple gridworld implementation built in [openai gym](https://gym.openai.com/). The agent (☺) can move left, right, up, and down in user-defined mazes. A `nonterminal_reward` (-1 by default) is emited every step until one of the `terminal_states` is reached, each of which is associated with a user-defined reward. Actions that would move the agent into a wall do not affect the state, but still cause `nonterminal_reward` emission.\n",
    "\n",
    "Mazes can be created from scratch or loaded from`rickgrid.mazes`. To create from scratch:"
   ]
  },
  {
   "cell_type": "code",
   "execution_count": 1,
   "metadata": {},
   "outputs": [],
   "source": [
    "import gym\n",
    "import matplotlib.pyplot as plt\n",
    "from scipy.signal import medfilt\n",
    "import numpy as np\n",
    "from rickgrid.mazes import mazes\n",
    "from rickgrid import Agents\n",
    "\n",
    "%load_ext autoreload\n",
    "%autoreload 2\n",
    "np.random.seed(0)"
   ]
  },
  {
   "cell_type": "code",
   "execution_count": 2,
   "metadata": {},
   "outputs": [],
   "source": [
    "\n",
    "# make a simple maze\n",
    "env = gym.make(\n",
    "    'RickGrid-v0',\n",
    "    walls = np.array([[0,1,0,0,0],           # logical matrix defines wall locations\n",
    "                      [0,1,1,1,0],\n",
    "                      [0,0,0,0,0],\n",
    "                      [1,1,1,1,0],\n",
    "                      [0,0,0,0,0]], dtype='bool'),\n",
    "    terminal_states = [[4,0,1], [0,2,10]],   # each terminal state has [row, col, reward]\n",
    "    start_coords = [0,0],                    # where the agent starts\n",
    "    nonterminal_reward=-1)                   # -1 reward per non-terminal step"
   ]
  },
  {
   "cell_type": "markdown",
   "metadata": {},
   "source": [
    "The environment behaves like other environments in openai gym. We can take actions visualize the result as follows:"
   ]
  },
  {
   "cell_type": "code",
   "execution_count": 3,
   "metadata": {},
   "outputs": [
    {
     "name": "stdout",
     "output_type": "stream",
     "text": [
      "\n",
      "██████████████\n",
      "██☺ ██10    ██\n",
      "██  ██████  ██\n",
      "██          ██\n",
      "██████████  ██\n",
      "██ 1        ██\n",
      "██████████████\n",
      "\n",
      "██████████████\n",
      "██  ██10    ██\n",
      "██☺ ██████  ██\n",
      "██          ██\n",
      "██████████  ██\n",
      "██ 1        ██\n",
      "██████████████\n"
     ]
    }
   ],
   "source": [
    "env.render(); # show maze\n",
    "env.step(3);  # step down\n",
    "env.render(); # show maze again"
   ]
  },
  {
   "cell_type": "markdown",
   "metadata": {},
   "source": [
    "# model-free control\n",
    "\n",
    "To 'solve' these mazes, I've implmented Q-Learning, Monte Carlo, [Exact Dynamic Programming](https://web.mit.edu/dimitrib/www/RL_1-SHORT-INTERNET-POSTED.pdf), and Dynamic Programming (as described by [Sutton and Barto](http://incompleteideas.net/book/the-book-2nd.html)). I will test these methods out on this simple default maze:"
   ]
  },
  {
   "cell_type": "code",
   "execution_count": 4,
   "metadata": {
    "scrolled": true
   },
   "outputs": [
    {
     "name": "stdout",
     "output_type": "stream",
     "text": [
      "\n",
      "██████████████\n",
      "██☺   ██   1██\n",
      "██    ██    ██\n",
      "██    ██    ██\n",
      "██    ██    ██\n",
      "██          ██\n",
      "██████████████\n"
     ]
    }
   ],
   "source": [
    "env = mazes['basic']\n",
    "env.render();"
   ]
  },
  {
   "cell_type": "markdown",
   "metadata": {},
   "source": [
    "## q-learning\n",
    "\n",
    "We can learn policies using action-value based tabular methods. In this [Q-Learning implementation](), the agent acts $\\epsilon$-greedy with respect to the estimated return for each state-action pair, $\\hat{q}(s,a)$. These estimates are updated online (after each step) according to\n",
    "\n",
    "$$\\hat{q}(S_t,A_t) \\leftarrow \\hat{q}(S_t,A_t) + \\alpha [R_t + \\gamma \\max_{a}\\hat{q}(S_{t+1},a) - \\hat{q}(S_t,A_t)]$$\n",
    "\n",
    "where $\\gamma$ is a discount factor ($\\gamma=1$ for the remainder of this demo) and $\\alpha$ is the learning rate.\n",
    "\n",
    "Let's train a Q agent!\n",
    "\n"
   ]
  },
  {
   "cell_type": "code",
   "execution_count": 5,
   "metadata": {
    "scrolled": true
   },
   "outputs": [
    {
     "data": {
      "image/png": "[encoded data removed]",
      "text/plain": [
       "<Figure size 432x288 with 1 Axes>"
      ]
     },
     "metadata": {
      "needs_background": "light"
     },
     "output_type": "display_data"
    }
   ],
   "source": [
    "agent = Agents.QLearning(env)\n",
    "steps = agent.train(\n",
    "    iterations=1000,\n",
    "    epsilon=.05,\n",
    "    alpha=.05,\n",
    "    gamma=1,\n",
    "    online_update=True)[0]   # update q on every step\n",
    "\n",
    "ax = plt.axes(xlabel='episode', ylabel='steps')\n",
    "ax.plot(steps);"
   ]
  },
  {
   "cell_type": "markdown",
   "metadata": {},
   "source": [
    "We can can check the resultant policy, which looks nice:"
   ]
  },
  {
   "cell_type": "code",
   "execution_count": 6,
   "metadata": {},
   "outputs": [
    {
     "name": "stdout",
     "output_type": "stream",
     "text": [
      "\n",
      "██████████████\n",
      "██▿ ▿ ██ ▹☺ ██\n",
      "██▿ ▿ ██ ▹▵ ██\n",
      "██▿ ▿ ██ ▹▵ ██\n",
      "██ ▹▿ ██▵ ▵ ██\n",
      "██ ▹ ▹ ▹▵ ▵ ██\n",
      "██████████████\n"
     ]
    }
   ],
   "source": [
    "agent.show_policy()"
   ]
  },
  {
   "cell_type": "markdown",
   "metadata": {},
   "source": [
    "We can also visualize $\\hat{q}(s,a)$ but taking the max across actions for every state and plotting these values as a heatmap. As expected, there are higher value estimates for locations close to the terminal state:"
   ]
  },
  {
   "cell_type": "code",
   "execution_count": 7,
   "metadata": {},
   "outputs": [
    {
     "data": {
      "image/png": "[encoded data removed]",
      "text/plain": [
       "<Figure size 432x288 with 1 Axes>"
      ]
     },
     "metadata": {
      "needs_background": "light"
     },
     "output_type": "display_data"
    }
   ],
   "source": [
    "agent.show_q()"
   ]
  },
  {
   "cell_type": "markdown",
   "metadata": {},
   "source": [
    "## monte carlo\n",
    "\n",
    "We can also learn $\\hat{q}(s,a)$ using the [Monte Carlo implementation](). Again the agent acts $\\epsilon$-greedy, but the expected return for each state-action pair is estimated using an exponentially weighted emperical average. The agent is trained on-policy. Every time a state-action pair is visited, it's value estimate is updated incrementally according to:\n",
    "\n",
    "$$\\hat{q}(s,a) \\leftarrow \\hat{q}(s,a) + \\alpha [G_t - \\hat{q}(s,a)]$$\n",
    "\n",
    "where $G_t = R_{t+1} + \\gamma R_{t+2} + \\gamma^2 R_{t+3} \\dots \\gamma^{T-t} R_T$ and $T$ is the number of time steps in the episode ($\\gamma$ is again set to 0).\n",
    "\n",
    "Let's train a Monte Carlo agent!\n",
    "\n"
   ]
  },
  {
   "cell_type": "code",
   "execution_count": 8,
   "metadata": {
    "scrolled": true
   },
   "outputs": [
    {
     "data": {
      "image/png": "[encoded data removed]",
      "text/plain": [
       "<Figure size 432x288 with 1 Axes>"
      ]
     },
     "metadata": {
      "needs_background": "light"
     },
     "output_type": "display_data"
    }
   ],
   "source": [
    "agent = Agents.MonteCarlo(env)\n",
    "steps = agent.train(\n",
    "    iterations=1000,\n",
    "    epsilon=.05,\n",
    "    alpha=.05,\n",
    "    gamma=1)[0]\n",
    "\n",
    "ax = plt.axes(xlabel='episode', ylabel='steps')\n",
    "ax.plot(steps);"
   ]
  },
  {
   "cell_type": "markdown",
   "metadata": {},
   "source": [
    "The learning curve is a little goofy. There seems to be an 'aha' moment; this is the point at which the agent accidentally discovers the terminal location. Once this happens, learning is rapid."
   ]
  },
  {
   "cell_type": "markdown",
   "metadata": {},
   "source": [
    "# model-based control"
   ]
  },
  {
   "cell_type": "markdown",
   "metadata": {},
   "source": [
    "## (approximate) dynamic programming\n",
    "\n",
    "The following approach is referred to in [Sutton and Barto as 'dynamic programming'](http://incompleteideas.net/book/the-book-2nd.html), and by [Dimitri Bertsekas as 'approximate dynamic programming'](https://web.mit.edu/dimitrib/www/RL_1-SHORT-INTERNET-POSTED.pdf). It falls within the 'generalized policy iteration' framework, wherein we iterate between approximating the value function for the current policy (evaluation) and improving the policy based on the value function (improvement).\n",
    "\n",
    "To evaluate the action-value function for the curent policy we loop across state-action pairs and use the Bellman-like update rule\n",
    "\n",
    "$$ \\hat{q}_\\pi(S_t,A_t) \\leftarrow \\hat{q}_\\pi(S_t,A_t) + \\alpha (R_{t+1} + \\gamma \\hat{q}_\\pi(S_{t+1},A_{t+1}) - \\hat{q}_\\pi(S_t,A_t))$$\n",
    "\n",
    "where $A_{t+1}$ is chosen according to the policy under evaluation. The policy is then updated by acting $\\epsilon$-greedy with respect to the updated action-value function.\n",
    "\n",
    "Note that $\\hat{q}_\\pi(s,a)=0 \\;\\; \\forall \\;\\; (s,a)$ when the agent is initialized, which means [actions are selected randomly at first](). Even for this *random policy* a nice structure in the value function emerges after looping over the states `eval_iterations=100` times."
   ]
  },
  {
   "cell_type": "code",
   "execution_count": 9,
   "metadata": {},
   "outputs": [
    {
     "data": {
      "image/png": "[encoded data removed]",
      "text/plain": [
       "<Figure size 432x288 with 1 Axes>"
      ]
     },
     "metadata": {
      "needs_background": "light"
     },
     "output_type": "display_data"
    }
   ],
   "source": [
    "agent = Agents.DP_approx(env)\n",
    "\n",
    "# evaluate current policy 1000 times and update policy once\n",
    "agent.evaluate_and_update(\n",
    "    eval_iterations=1000,\n",
    "    alpha=.2,\n",
    "    epsilon=.05)\n",
    "\n",
    "agent.show_q()"
   ]
  },
  {
   "cell_type": "markdown",
   "metadata": {},
   "source": [
    "Acting greedily with respect to this value function gives us an optimal policy after only a single round of evaluation:"
   ]
  },
  {
   "cell_type": "code",
   "execution_count": 10,
   "metadata": {},
   "outputs": [
    {
     "name": "stdout",
     "output_type": "stream",
     "text": [
      "\n",
      "██████████████\n",
      "██▿ ▿ ██ ▹☺ ██\n",
      "██▿ ▿ ██▵ ▵ ██\n",
      "██▿ ▿ ██▵ ▵ ██\n",
      "██▿ ▿ ██▵ ▵ ██\n",
      "██ ▹ ▹ ▹▵ ▵ ██\n",
      "██████████████\n"
     ]
    }
   ],
   "source": [
    "agent.show_policy()  # the policy is now greedy w.r.t the updated q-function"
   ]
  },
  {
   "cell_type": "markdown",
   "metadata": {},
   "source": [
    "A more reasonable approach is to perform evaluation updates for just a few iterations before switching to policy improvement. Learning can occur more quickly this way:"
   ]
  },
  {
   "cell_type": "code",
   "execution_count": 11,
   "metadata": {},
   "outputs": [],
   "source": [
    "agent = Agents.DP_approx(env)\n",
    "policy_updates = 10\n",
    "eval_iterations = 10  # evaluate each policy 10 times before updating it\n",
    "\n",
    "steps = []\n",
    "for i in range(policy_updates):\n",
    "    \n",
    "    # evaluate for eval_iterations and update policy once\n",
    "    agent.evaluate_and_update(eval_iterations=eval_iterations, alpha=.2, epsilon=.05)\n",
    "    \n",
    "    # count steps in sample greedy rollout\n",
    "    rewards = agent.rollout(epsilon=0, alpha=.05, gamma=1)[2]\n",
    "    steps.append(len(rewards))"
   ]
  },
  {
   "cell_type": "markdown",
   "metadata": {},
   "source": [
    "Once agin the agent has learned a nice policy:"
   ]
  },
  {
   "cell_type": "code",
   "execution_count": 12,
   "metadata": {},
   "outputs": [
    {
     "name": "stdout",
     "output_type": "stream",
     "text": [
      "\n",
      "██████████████\n",
      "██ ▹▿ ██ ▹☺ ██\n",
      "██ ▹▿ ██▵ ▵ ██\n",
      "██▿ ▿ ██ ▹▵ ██\n",
      "██▿ ▿ ██ ▹▵ ██\n",
      "██ ▹ ▹ ▹ ▹▵ ██\n",
      "██████████████\n"
     ]
    }
   ],
   "source": [
    "agent.show_policy()"
   ]
  },
  {
   "cell_type": "markdown",
   "metadata": {},
   "source": [
    "But this time it only took $(10 \\text{ policy updates}) * (10 \\text{ evaluations per update}) = (100 \\text{ evaluations})$ to get there. The plot below shows that learing has already plateaued after only 5 policy updates"
   ]
  },
  {
   "cell_type": "code",
   "execution_count": 13,
   "metadata": {},
   "outputs": [
    {
     "data": {
      "image/png": "[encoded data removed]",
      "text/plain": [
       "<Figure size 432x288 with 1 Axes>"
      ]
     },
     "metadata": {
      "needs_background": "light"
     },
     "output_type": "display_data"
    }
   ],
   "source": [
    "# plot steps per episode after each policy update\n",
    "ax = plt.axes(xlabel='policy update number', ylabel='steps')\n",
    "ax.plot(steps);\n"
   ]
  },
  {
   "cell_type": "markdown",
   "metadata": {},
   "source": [
    "## (exact) dynamic programming\n",
    "\n",
    "In [exact dynamic programming](https://web.mit.edu/dimitrib/www/RL_1-SHORT-INTERNET-POSTED.pdf) the maze is treated as a directed acyclic graph. If the reward emitted between states represents the length of the path between those states, then finding the optimal policy is finding the *longest* path through the graph.\n",
    "\n",
    "The optimal policy is found by working backwards from the terminal states. We rely on the principle of optimality, which states that the remainder of an optimal path is also optimal. At every time, we select the optimal action for that state and time, $a_{*}(S_t, t)$,  by maximizing the sum of the immediate reward and the (optimal) value of the subsequent state:\n",
    "\n",
    "$$ a_{*}(S_t, t) = \\max_{a} \\left[ r(S_t,a) + v_{*}(S_{t+1}, {t+1})  \\right] $$\n",
    "\n",
    "$v_{*}(s,t)$ is the maximum possible (undiscounted) return attainable starting from state $s$ at time $t$, and $r(s,a)$ is the reward emitted after take action $a$ in state $s$ (in a deterministic environment). In [the implementation]() I construct matrices that record the optimal values and actions for each state at each time point (assuming a fixed horizon length), starting with the last time point and moving backwards.\n",
    "\n",
    "There is one subtlety: trajectories can be of different length (because terminal states can be reached at different times), but we would like to create matrices of size $(\\text{number of states} \\times \\text{number of times})$ to represent *all* trajectories. The terminal state is therefore treated as a state that transitions to itself without reward until the end of the episode, which makes all trajectories have length $T$. Let's try it out.\n",
    "\n"
   ]
  },
  {
   "cell_type": "code",
   "execution_count": 14,
   "metadata": {},
   "outputs": [
    {
     "name": "stdout",
     "output_type": "stream",
     "text": [
      "\n",
      "██████████████\n",
      "██ ▹▿ ██ ▹☺ ██\n",
      "██ ▹▿ ██ ▹▵ ██\n",
      "██ ▹▿ ██ ▹▵ ██\n",
      "██ ▹▿ ██ ▹▵ ██\n",
      "██ ▹ ▹ ▹ ▹▵ ██\n",
      "██████████████\n"
     ]
    }
   ],
   "source": [
    "agent = Agents.DP_exact(env)\n",
    "agent.solve()  # this finds the optimal policy\n",
    "agent.show_policy() # the policy is actually time-varying (see below); this shows t=0"
   ]
  },
  {
   "cell_type": "markdown",
   "metadata": {},
   "source": [
    "Awesome. We've actually computed optimal trajectories from *all* states at *all* times (not just the starting state and time). This means we can drop the agent at any state / time and it will still perform optimally."
   ]
  },
  {
   "cell_type": "markdown",
   "metadata": {},
   "source": [
    "## where exact dynamic programming > q-learning\n",
    "\n",
    "What's neat about this approach is that the optimal policy is a function of state *and* time, which should allow the policy to do well even when the environment is less Markovian. Consider the following maze, where an extra *non-terminal* reward of 5 is added. An optimal policy should repeatedly consume this reward before running to catch the 99 before the maximimum duration of the episode $(T=100)$ is reached."
   ]
  },
  {
   "cell_type": "code",
   "execution_count": 15,
   "metadata": {},
   "outputs": [
    {
     "name": "stdout",
     "output_type": "stream",
     "text": [
      "\n",
      "██████████████████\n",
      "██☺             ██\n",
      "██              ██\n",
      "██    99        ██\n",
      "██              ██\n",
      "██              ██\n",
      "██           5  ██\n",
      "██              ██\n",
      "██████████████████\n"
     ]
    }
   ],
   "source": [
    "env = mazes['loops']\n",
    "env.render()"
   ]
  },
  {
   "cell_type": "code",
   "execution_count": 16,
   "metadata": {},
   "outputs": [
    {
     "name": "stdout",
     "output_type": "stream",
     "text": [
      "reward sequence:\n",
      "[-1, -1, -1, -1, -1, -1, -1, -1, -1, 5, -1, 5, -1, 5, -1, 5, -1, 5, -1, 5, -1, 5, -1, 5, -1, 5, -1, 5, -1, 5, -1, 5, -1, 5, -1, 5, -1, 5, -1, 5, -1, 5, -1, 5, -1, 5, -1, 5, -1, 5, -1, 5, -1, 5, -1, 5, -1, 5, -1, 5, -1, 5, -1, 5, -1, 5, -1, 5, -1, 5, -1, 5, -1, 5, -1, 5, -1, 5, -1, 5, -1, 5, -1, 5, -1, 5, -1, 5, -1, 5, -1, 5, -1, 5, -1, -1, -1, -1, -1, 99]\n",
      "\n",
      "total reward: 258\n"
     ]
    }
   ],
   "source": [
    "agent = Agents.DP_exact(env)\n",
    "agent.solve() # find optimal policy\n",
    "\n",
    "rewards = agent.rollout()[2] # get reward sequence for sample rollout\n",
    "\n",
    "# show reward sequence\n",
    "print('reward sequence:')\n",
    "print(rewards)\n",
    "\n",
    "print('\\ntotal reward: {}'.format(sum(rewards)))"
   ]
  },
  {
   "cell_type": "markdown",
   "metadata": {},
   "source": [
    "All of those $-5$ rewards correspond to the agent moving back and forward to repeatedly consume that reward, before running to catch the $99$ reward at the last moment. This means the states close to $-5$ are better early on, but those close to $99$ are better near the end. Looking at the time-indexed policies bears this out:"
   ]
  },
  {
   "cell_type": "code",
   "execution_count": 17,
   "metadata": {},
   "outputs": [
    {
     "name": "stdout",
     "output_type": "stream",
     "text": [
      "\n",
      "\n",
      "policy at t=0\n",
      "\n",
      "██████████████████\n",
      "██☺  ▹ ▹ ▹ ▹▿  ◃██\n",
      "██ ▹ ▹ ▹ ▹ ▹▿  ◃██\n",
      "██ ▹▿ 99 ▹ ▹▿  ◃██\n",
      "██ ▹ ▹ ▹ ▹ ▹▿  ◃██\n",
      "██ ▹ ▹ ▹ ▹ ▹▿  ◃██\n",
      "██ ▹ ▹ ▹ ▹ ▹ 5 ◃██\n",
      "██ ▹ ▹ ▹ ▹ ▹▵  ◃██\n",
      "██████████████████\n",
      "\n",
      "\n",
      "policy at t=95\n",
      "\n",
      "██████████████████\n",
      "██☺  ▹▿  ◃ ◃ ◃ ◃██\n",
      "██ ▹ ▹▿  ◃ ◃ ◃ ◃██\n",
      "██ ▹ ▹99 ◃ ◃ ◃ ◃██\n",
      "██ ▹ ▹▵  ◃ ◃ ◃ ◃██\n",
      "██ ▹ ▹▵  ◃ ◃ ◃ ◃██\n",
      "██ ▹ ▹▵  ◃ ◃ 5 ◃██\n",
      "██ ◃ ▹▵  ◃ ▹▵  ◃██\n",
      "██████████████████\n"
     ]
    }
   ],
   "source": [
    "env.reset()\n",
    "for t in [0,95]:\n",
    "    print('\\n\\npolicy at t={}'.format(t))\n",
    "    agent.show_policy(t=t)"
   ]
  },
  {
   "cell_type": "markdown",
   "metadata": {},
   "source": [
    "At the beginning the agent steers *around* the big reward to get to $-5$, but moves toward $99$ at the end.\n",
    "\n",
    "Q-Learning never achieves the maximum reward of $258$. For the following Q-Learning agent I increase $\\epsilon$ to make sure the $5$ is discovered. Still the agent doesn't receive the maximum possible reward because the policy draws it toward the $99$. This is to be expected. The policy is a function of state but not time, so the agent can't learn that the $5$ is better early on, and the $99$ is better later on."
   ]
  },
  {
   "cell_type": "code",
   "execution_count": 18,
   "metadata": {
    "scrolled": false
   },
   "outputs": [
    {
     "name": "stdout",
     "output_type": "stream",
     "text": [
      "max reward: 96\n",
      "\n",
      "██████████████████\n",
      "██ ▹ ▹▿  ◃ ◃▵  ▹██\n",
      "██ ▹ ▹▿  ◃ ◃ ◃▿ ██\n",
      "██ ▹ ▹☺  ◃ ◃ ◃ ▹██\n",
      "██▵ ▵ ▵ ▵ ▵ ▿  ◃██\n",
      "██▵ ▵ ▵ ▿  ▹▿  ◃██\n",
      "██ ◃▿  ▹ ◃ ▹ 5 ◃██\n",
      "██ ◃▵ ▿ ▿  ▹▵  ▹██\n",
      "██████████████████\n"
     ]
    }
   ],
   "source": [
    "agent = Agents.QLearning(env)\n",
    "reward = agent.train(iterations=1000, epsilon=.5, online_update=True, alpha=.05, gamma=1)[1]\n",
    "print('max reward: {}'.format(max(reward)))\n",
    "agent.show_policy()"
   ]
  },
  {
   "cell_type": "markdown",
   "metadata": {},
   "source": [
    "# explore vs. exploit!\n",
    "\n",
    "Here is a maze that has a low-value proximal terminal state of $1$, and a high value distal terminal state of $99$."
   ]
  },
  {
   "cell_type": "code",
   "execution_count": 19,
   "metadata": {},
   "outputs": [
    {
     "name": "stdout",
     "output_type": "stream",
     "text": [
      "\n",
      "████████████████████████████████████████████\n",
      "██☺     ██        ██                      ██\n",
      "██  ██    ██████  ██  ██████████████████  ██\n",
      "██    ██          ██            ██        ██\n",
      "██  ██  ████████  ██  ████████████  ████████\n",
      "██            ██               1██      99██\n",
      "████████████████████████████████████████████\n"
     ]
    }
   ],
   "source": [
    "env = mazes['two_terminal']\n",
    "env.render()"
   ]
  },
  {
   "cell_type": "markdown",
   "metadata": {},
   "source": [
    "For instance, the vanilla Q-Learning agent described above fails to get the maximum total reward of $63$. Instead it maxes out at a totaly reward of $-16$, which corresponds to a straight path to the $1$ reward."
   ]
  },
  {
   "cell_type": "code",
   "execution_count": 20,
   "metadata": {},
   "outputs": [
    {
     "name": "stdout",
     "output_type": "stream",
     "text": [
      "max reward: -16\n"
     ]
    },
    {
     "data": {
      "image/png": "[encoded data removed]",
      "text/plain": [
       "<Figure size 432x288 with 1 Axes>"
      ]
     },
     "metadata": {
      "needs_background": "light"
     },
     "output_type": "display_data"
    }
   ],
   "source": [
    "agent = Agents.QLearning(env)\n",
    "\n",
    "rewards = agent.train(\n",
    "    iterations=5000,\n",
    "    epsilon=.05,\n",
    "    alpha=.05,\n",
    "    gamma=1,\n",
    "    online_update=True)[1]   # update q on every step\n",
    "\n",
    "print('max reward: {}'.format(max(rewards)))\n",
    "ax = plt.axes(xlabel='episode', ylabel='reward')\n",
    "ax.plot(rewards);\n"
   ]
  },
  {
   "cell_type": "markdown",
   "metadata": {},
   "source": [
    "## fix 1: optimism in the face of uncertainty\n",
    "\n",
    "Let's initialize $\\hat{q}(s,a)$ with exremely optimistic values of $99$. This will encourage the agent to explore the unexplored, ultimately discovering the big reward."
   ]
  },
  {
   "cell_type": "code",
   "execution_count": 21,
   "metadata": {},
   "outputs": [
    {
     "name": "stdout",
     "output_type": "stream",
     "text": [
      "max reward: 63\n"
     ]
    },
    {
     "data": {
      "image/png": "[encoded data removed]",
      "text/plain": [
       "<Figure size 432x288 with 1 Axes>"
      ]
     },
     "metadata": {
      "needs_background": "light"
     },
     "output_type": "display_data"
    }
   ],
   "source": [
    "agent = Agents.QLearning(env, Q_init=99) # optimistic q initialization\n",
    "\n",
    "rewards = agent.train(\n",
    "    iterations=5000,\n",
    "    epsilon=.05,\n",
    "    alpha=.05,\n",
    "    gamma=1,\n",
    "    online_update=True)[1]   # update q on every step\n",
    "\n",
    "print('max reward: {}'.format(max(rewards)))\n",
    "ax = plt.axes(xlabel='episode', ylabel='reward')\n",
    "ax.plot(rewards);"
   ]
  },
  {
   "cell_type": "markdown",
   "metadata": {},
   "source": [
    "Success! But take a look at the policy below. Some states that aren't visited under the policy still have weird actions (like in the lower left corner). This does not affect performance unless non-greedy actions pull the agent to these strange corners of state space."
   ]
  },
  {
   "cell_type": "code",
   "execution_count": 22,
   "metadata": {},
   "outputs": [
    {
     "name": "stdout",
     "output_type": "stream",
     "text": [
      "\n",
      "████████████████████████████████████████████\n",
      "██☺  ▹▿ ██▿  ◃▿  ◃██ ▹ ▹ ▹ ▹ ▹ ▹ ▹ ▹ ▹ ▹▿ ██\n",
      "██▵ ██ ▹▿ ██████▿ ██▵ ██████████████████▿ ██\n",
      "██ ▹▵ ██ ▹ ▹ ▹ ▹▿ ██▵  ◃ ▹ ▹ ▹ ▹██▿  ◃ ◃ ◃██\n",
      "██ ▹██ ◃████████▿ ██▵ ████████████▿ ████████\n",
      "██ ◃ ▹ ▹▵ ▵  ▹██ ▹ ▹▵ ▿  ▹▵ ▿  1██ ▹ ▹ ▹99██\n",
      "████████████████████████████████████████████\n"
     ]
    }
   ],
   "source": [
    "env.reset()\n",
    "agent.show_policy()"
   ]
  },
  {
   "cell_type": "markdown",
   "metadata": {},
   "source": [
    "## fix 2: exploring starts\n",
    "Instead of starting the agent in the top left corner every time, let's randomize the start state. This guarantees the state space (but not necessarily the state-action space) is explored, and should fix the weird decisions that are made in unvisisted states shown above. We'll need to train it for a bit longer though. I also found that increasing $\\epsilon$ from $.05$ to $.2$ was necessary here."
   ]
  },
  {
   "cell_type": "code",
   "execution_count": 23,
   "metadata": {},
   "outputs": [
    {
     "name": "stdout",
     "output_type": "stream",
     "text": [
      "\n",
      "████████████████████████████████████████████\n",
      "██ ▹ ▹▿ ██ ▹ ▹ ▹▿ ██ ▹ ▹ ▹ ▹ ▹ ▹ ▹ ▹ ▹ ▹▿ ██\n",
      "██▵ ██ ▹▿ ██████▿ ██▵ ██████████████████▿ ██\n",
      "██▵  ◃██ ▹ ▹ ▹ ▹▿ ██▵  ◃ ◃ ◃ ◃ ◃██▿  ◃ ◃ ◃██\n",
      "██▵ ██▿ ████████▿ ██▵ ████████████▿ ████████\n",
      "██▵  ◃ ◃ ◃ ◃ ◃██ ▹ ▹▵  ◃ ◃ ▹ ▹ 1██ ▹ ▹ ▹☺ ██\n",
      "████████████████████████████████████████████\n"
     ]
    }
   ],
   "source": [
    "env.random_start = True\n",
    "agent = Agents.QLearning(env) # optimistic q initialization\n",
    "\n",
    "rewards = agent.train(\n",
    "    iterations=10000,\n",
    "    epsilon=.2,\n",
    "    alpha=.05,\n",
    "    gamma=1,\n",
    "    online_update=True)[1]   # update q on every step\n",
    "\n",
    "agent.show_policy()"
   ]
  },
  {
   "cell_type": "markdown",
   "metadata": {},
   "source": [
    "The policy is still imperfect, but if we begin at the start state and set $\\epsilon=0$ we we get the maximum possible reward of $63$:"
   ]
  },
  {
   "cell_type": "code",
   "execution_count": 24,
   "metadata": {},
   "outputs": [
    {
     "name": "stdout",
     "output_type": "stream",
     "text": [
      "episode reward: 63\n"
     ]
    }
   ],
   "source": [
    "env.random_start = False\n",
    "rewards = agent.rollout(epsilon=0)[2]\n",
    "print('episode reward: {}'.format(sum(rewards)))"
   ]
  },
  {
   "cell_type": "markdown",
   "metadata": {},
   "source": [
    "## fix 3: exact dynamic programming\n",
    "It's perhaps worth showing that dynamic programming figures this maze out:"
   ]
  },
  {
   "cell_type": "code",
   "execution_count": 25,
   "metadata": {},
   "outputs": [
    {
     "name": "stdout",
     "output_type": "stream",
     "text": [
      "\n",
      "████████████████████████████████████████████\n",
      "██ ▹ ▹▿ ██ ▹ ▹ ▹▿ ██ ▹ ▹ ▹ ▹ ▹ ▹ ▹ ▹ ▹ ▹▿ ██\n",
      "██▵ ██ ▹▿ ██████▿ ██▵ ██████████████████▿ ██\n",
      "██▵  ◃██ ▹ ▹ ▹ ▹▿ ██▵  ◃ ◃ ◃ ◃ ◃██▿  ◃ ◃ ◃██\n",
      "██▵ ██▿ ████████▿ ██▵ ████████████▿ ████████\n",
      "██▵  ◃ ◃ ◃ ◃ ◃██ ▹ ▹▵  ◃ ◃ ◃ ◃ 1██ ▹ ▹ ▹☺ ██\n",
      "████████████████████████████████████████████\n",
      "episode reward: 63\n"
     ]
    }
   ],
   "source": [
    "agent = Agents.DP_exact(env)\n",
    "agent.solve()\n",
    "agent.show_policy()\n",
    "rewards = agent.rollout(epsilon=0)[2]\n",
    "print('episode reward: {}'.format(sum(rewards)))"
   ]
  },
  {
   "cell_type": "markdown",
   "metadata": {},
   "source": [
    "## fix 4: bring the noise\n",
    "todo"
   ]
  }
 ],
 "metadata": {
  "kernelspec": {
   "display_name": "Python 3",
   "language": "python",
   "name": "python3"
  },
  "language_info": {
   "codemirror_mode": {
    "name": "ipython",
    "version": 3
   },
   "file_extension": ".py",
   "mimetype": "text/x-python",
   "name": "python",
   "nbconvert_exporter": "python",
   "pygments_lexer": "ipython3",
   "version": "3.8.3"
  }
 },
 "nbformat": 4,
 "nbformat_minor": 4
}
