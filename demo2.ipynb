{
 "cells": [
  {
   "cell_type": "markdown",
   "metadata": {},
   "source": [
    "# gridworld\n",
    "This is a simple gridworld implementation built in [openai gym](https://gym.openai.com/). The agent (☺) can move left, right, up, and down in user-defined mazes. A `nonterminal_reward` (-1 by default) is emited every step until one of the `terminal_states` is reached, each of which is associated with a user-defined reward. Actions that would move the agent into a wall have no effect on the state, but still cause the `non-terminal reward` to be emitted.\n",
    "\n",
    "Mazes can be created from scratch or loaded from`rickgrid.mazes`. To create from scratch:"
   ]
  },
  {
   "cell_type": "code",
   "execution_count": 1,
   "metadata": {},
   "outputs": [],
   "source": [
    "import gym\n",
    "import matplotlib.pyplot as plt\n",
    "from scipy.signal import medfilt\n",
    "import numpy as np\n",
    "from rickgrid.mazes import mazes\n",
    "from rickgrid import Agents\n",
    "\n",
    "%load_ext autoreload\n",
    "%autoreload 2\n",
    "np.random.seed(0)"
   ]
  },
  {
   "cell_type": "code",
   "execution_count": 15,
   "metadata": {},
   "outputs": [],
   "source": [
    "\n",
    "# make a simple maze\n",
    "env = gym.make(\n",
    "    'RickGrid-v0',\n",
    "    walls = np.array([[0,1,0,0,0],           # logical matrix defines wall locations\n",
    "                      [0,1,1,1,0],\n",
    "                      [0,0,0,0,0],\n",
    "                      [1,1,1,1,0],\n",
    "                      [0,0,0,0,0]], dtype='bool'),\n",
    "    terminal_states = [[4,0,1], [0,2,10]],   # each terminal state has [row, col, reward]\n",
    "    start_coords = [0,0],                    # where the agent starts\n",
    "    nonterminal_reward=-1)                   # -1 reward per non-terminal step"
   ]
  },
  {
   "cell_type": "markdown",
   "metadata": {},
   "source": [
    "The environment behaves like other environments in openai gym. We can take actions visualize the result as follows:"
   ]
  },
  {
   "cell_type": "code",
   "execution_count": 3,
   "metadata": {},
   "outputs": [
    {
     "name": "stdout",
     "output_type": "stream",
     "text": [
      "\n",
      "██████████████\n",
      "██☺ ██10    ██\n",
      "██  ██████  ██\n",
      "██          ██\n",
      "██████████  ██\n",
      "██ 1        ██\n",
      "██████████████\n",
      "\n",
      "██████████████\n",
      "██  ██10    ██\n",
      "██☺ ██████  ██\n",
      "██          ██\n",
      "██████████  ██\n",
      "██ 1        ██\n",
      "██████████████\n"
     ]
    }
   ],
   "source": [
    "env.render(); # show maze\n",
    "env.step(3);  # step down\n",
    "env.render(); # show maze again"
   ]
  },
  {
   "cell_type": "markdown",
   "metadata": {},
   "source": [
    "# model-free control\n",
    "\n",
    "To 'solve' these mazes, I've implmented Q-Learning, Monte Carlo, [Exact Dynamic Programming](https://web.mit.edu/dimitrib/www/RL_1-SHORT-INTERNET-POSTED.pdf), and Dynamic Programming (as described by [Sutton and Barto](https://web.stanford.edu/class/psych209/Readings/SuttonBartoIPRLBook2ndEd.pdf)). I will test these methods out on this simple default maze:"
   ]
  },
  {
   "cell_type": "code",
   "execution_count": 4,
   "metadata": {
    "scrolled": true
   },
   "outputs": [
    {
     "name": "stdout",
     "output_type": "stream",
     "text": [
      "\n",
      "██████████████\n",
      "██☺   ██   1██\n",
      "██    ██    ██\n",
      "██    ██    ██\n",
      "██    ██    ██\n",
      "██          ██\n",
      "██████████████\n"
     ]
    }
   ],
   "source": [
    "env = mazes['basic']\n",
    "env.render();"
   ]
  },
  {
   "cell_type": "markdown",
   "metadata": {},
   "source": [
    "## q-learning\n",
    "\n",
    "We can learn policies using action-value based tabular methods. In this [Q-Learning implementation](), the agent acts $\\epsilon$-greedy with respect to the estimated return for each state-action pair, $\\hat{q}(s,a)$. These estimates are updated online (after each step) according to\n",
    "\n",
    "$$\\hat{q}(s,a) \\leftarrow \\hat{q}(s,a) + \\alpha [R_t + \\gamma \\max_{a}\\hat{q}(S_{t+1},a) - \\hat{q}(s,a)]$$\n",
    "\n",
    "where $\\gamma$ is a discount factor ($\\gamma=1$ in this notebook) and $\\alpha$ is the learning rate.\n",
    "\n",
    "Let's train a Q agent!\n",
    "\n"
   ]
  },
  {
   "cell_type": "code",
   "execution_count": 5,
   "metadata": {
    "scrolled": true
   },
   "outputs": [
    {
     "data": {
      "image/png": "[encoded data removed]",
      "text/plain": [
       "<Figure size 432x288 with 1 Axes>"
      ]
     },
     "metadata": {
      "needs_background": "light"
     },
     "output_type": "display_data"
    }
   ],
   "source": [
    "agent = Agents.QLearning(env)\n",
    "steps, reward = agent.train(\n",
    "    iterations=1000,\n",
    "    epsilon=.05,\n",
    "    alpha=.05,\n",
    "    gamma=1,\n",
    "    online_update=True)   # update q on every step\n",
    "\n",
    "ax = plt.axes(xlabel='episode', ylabel='steps')\n",
    "ax.plot(steps);"
   ]
  },
  {
   "cell_type": "markdown",
   "metadata": {},
   "source": [
    "We can can check the resultant policy and $\\max_{a} \\hat{q}(s,a)$ as follows:"
   ]
  },
  {
   "cell_type": "code",
   "execution_count": 6,
   "metadata": {},
   "outputs": [
    {
     "name": "stdout",
     "output_type": "stream",
     "text": [
      "\n",
      "██████████████\n",
      "██▿ ▿ ██ ▹☺ ██\n",
      "██▿ ▿ ██ ▹▵ ██\n",
      "██▿ ▿ ██ ▹▵ ██\n",
      "██ ▹▿ ██▵ ▵ ██\n",
      "██ ▹ ▹ ▹▵ ▵ ██\n",
      "██████████████\n"
     ]
    },
    {
     "data": {
      "image/png": "[encoded data removed]",
      "text/plain": [
       "<Figure size 432x288 with 1 Axes>"
      ]
     },
     "metadata": {
      "needs_background": "light"
     },
     "output_type": "display_data"
    }
   ],
   "source": [
    "agent.show_policy()\n",
    "agent.show_q()"
   ]
  },
  {
   "cell_type": "markdown",
   "metadata": {},
   "source": [
    "## monte carlo\n",
    "\n",
    "We can also learn $\\hat{q}(s,a)$ using a [Monte Carlo method](). Again the agent acts $\\epsilon$-greedy, but the expected return for each state-action pair is approximated using an exponentially weighted emperical average. This average is computed incrementally as follows:\n",
    "\n",
    "$$\\hat{q}(s,a) \\leftarrow \\hat{q}(s,a) + \\alpha [G_t - \\hat{q}(s,a)]$$\n",
    "\n",
    "where $G_t = R_{t+1} + \\gamma R_{t+2} + \\gamma^2 R_{t+3} \\dots \\gamma^{T-t} R_T$ and $T$ is the number of time steps in the episode.\n",
    "\n",
    "Let's train a Monte Carlo agent!\n",
    "\n"
   ]
  },
  {
   "cell_type": "code",
   "execution_count": 7,
   "metadata": {
    "scrolled": true
   },
   "outputs": [
    {
     "data": {
      "image/png": "[encoded data removed]",
      "text/plain": [
       "<Figure size 432x288 with 1 Axes>"
      ]
     },
     "metadata": {
      "needs_background": "light"
     },
     "output_type": "display_data"
    }
   ],
   "source": [
    "agent = Agents.MonteCarlo(env)\n",
    "steps, reward = agent.train(\n",
    "    iterations=1000,\n",
    "    epsilon=.05,\n",
    "    alpha=.05,\n",
    "    gamma=1)\n",
    "\n",
    "ax = plt.axes(xlabel='episode', ylabel='steps')\n",
    "ax.plot(steps);"
   ]
  },
  {
   "cell_type": "markdown",
   "metadata": {},
   "source": [
    "The learning curve is a little goofy. There seems to be an 'aha' moment. The agent has to accidentally discover the terminal location at least once before learning can really occur. This could be problematic for larger state spaces (see below)."
   ]
  },
  {
   "cell_type": "markdown",
   "metadata": {},
   "source": [
    "# model-based control"
   ]
  },
  {
   "cell_type": "markdown",
   "metadata": {},
   "source": [
    "## (approximate) dynamic programming\n",
    "\n",
    "The following approach is referred to in [Sutton and Barto as 'dynamic programming'](http://incompleteideas.net/book/the-book-2nd.html), and by [Dimitri Bertsekas as 'approximate dynamic programming'](https://web.mit.edu/dimitrib/www/RL_1-SHORT-INTERNET-POSTED.pdf). It falls within the 'generalized policy iteration' framework, wherein we iterate between approximating the value function for the current policy (evaluation) and improving the policy based on the value function (improvement).\n",
    "\n",
    "To evaluate the action-value function for the curent policy we loop across state-action pairs and use the Bellman-like update rule\n",
    "\n",
    "$$ \\hat{q}_\\pi(s,a) \\leftarrow \\hat{q}_\\pi(s,a) + \\alpha (R_{t+1} + \\gamma \\hat{q}_\\pi(S_{t+1},A_{t+1}) - \\hat{q}_\\pi(s,a))$$\n",
    "\n",
    "where $A_{t+1}$ is chosen according to the policy under evaluation.\n",
    "\n",
    "When the agent is initialized, $\\hat{q}_\\pi(s,a)=0 \\;\\; \\forall \\;\\; (s,a)$, which means the actions are selected randomly. Even for this *random policy* a nice structure in the value function emerges after looping over the states `eval_iterations=100` times."
   ]
  },
  {
   "cell_type": "code",
   "execution_count": 8,
   "metadata": {},
   "outputs": [
    {
     "data": {
      "image/png": "[encoded data removed]",
      "text/plain": [
       "<Figure size 432x288 with 1 Axes>"
      ]
     },
     "metadata": {
      "needs_background": "light"
     },
     "output_type": "display_data"
    }
   ],
   "source": [
    "agent = Agents.DP_approx(env)\n",
    "\n",
    "agent.evaluate_and_update(eval_iterations=1000, alpha=.2, epsilon=.05)\n",
    "agent.show_q()"
   ]
  },
  {
   "cell_type": "markdown",
   "metadata": {},
   "source": [
    "Acting greedily with respect to this value function gives us an optimal policy after only a single round of evaluation:"
   ]
  },
  {
   "cell_type": "code",
   "execution_count": 9,
   "metadata": {},
   "outputs": [
    {
     "name": "stdout",
     "output_type": "stream",
     "text": [
      "\n",
      "██████████████\n",
      "██▿ ▿ ██ ▹☺ ██\n",
      "██▿ ▿ ██▵ ▵ ██\n",
      "██▿ ▿ ██▵ ▵ ██\n",
      "██▿ ▿ ██▵ ▵ ██\n",
      "██ ▹ ▹ ▹▵ ▵ ██\n",
      "██████████████\n"
     ]
    }
   ],
   "source": [
    "agent.show_policy()  # the policy is now greedy w.r.t the updated q-function"
   ]
  },
  {
   "cell_type": "markdown",
   "metadata": {},
   "source": [
    "A more reasonable approach is to perform evaluation updates for just a few iterations before switching to policy improvement. Learning can occur more quickly this way:"
   ]
  },
  {
   "cell_type": "code",
   "execution_count": 10,
   "metadata": {},
   "outputs": [
    {
     "name": "stdout",
     "output_type": "stream",
     "text": [
      "\n",
      "██████████████\n",
      "██ ▹▿ ██ ▹☺ ██\n",
      "██ ▹▿ ██▵ ▵ ██\n",
      "██▿ ▿ ██ ▹▵ ██\n",
      "██▿ ▿ ██ ▹▵ ██\n",
      "██ ▹ ▹ ▹ ▹▵ ██\n",
      "██████████████\n"
     ]
    },
    {
     "data": {
      "image/png": "[encoded data removed]",
      "text/plain": [
       "<Figure size 432x288 with 1 Axes>"
      ]
     },
     "metadata": {
      "needs_background": "light"
     },
     "output_type": "display_data"
    }
   ],
   "source": [
    "agent = Agents.DP_approx(env)\n",
    "policy_updates = 10\n",
    "eval_iterations = 10\n",
    "\n",
    "steps = []\n",
    "for i in range(policy_updates):\n",
    "    \n",
    "    # evaluate for eval_iterations and update policy once\n",
    "    agent.evaluate_and_update(eval_iterations=eval_iterations, alpha=.2, epsilon=.05)\n",
    "    \n",
    "    # count steps in sample greedy rollout\n",
    "    rewards = agent.rollout(epsilon=0, alpha=.05, gamma=1)[2]\n",
    "    steps.append(len(rewards))\n",
    "\n",
    "# plot steps per episode after each policy update\n",
    "ax = plt.axes(xlabel='policy update number', ylabel='steps')\n",
    "ax.plot(steps);\n",
    "\n",
    "# show policy\n",
    "agent.show_policy()"
   ]
  },
  {
   "cell_type": "markdown",
   "metadata": {},
   "source": [
    "## (exact) dynamic programming\n",
    "\n",
    "In [exact dynamic programming](https://web.mit.edu/dimitrib/www/RL_1-SHORT-INTERNET-POSTED.pdf) the maze is treated as a directed acyclic graph. If the reward emitted between states is treated as the length of the path between those states, then finding the optimal policy is finding the *longest* path through the graph.\n",
    "\n",
    "The optimal policy is found by working backwards from the terminal states. We rely on the principle of optimality, which states that the remainder of an optimal path is also optimal. At every time, we select the optimal action by maximizing the sum of the immediate reward and the (optimal) value of the subsequent state:\n",
    "\n",
    "$$ a_{*}(S_t, t) = \\max_{a} \\left[ r(S_t,A_t) + v_{*}(S_{t+1}, {t+1})  \\right] $$\n",
    "\n",
    "$v_{*}(s,t)$ is the maximum possible (undiscounted) return attainable starting from state $s$ at time $t$, and $r(s,a)$ is the reward emitted after take action $a$ in state $s$. In [the implementation]() I construct action and value matrices that record the optimal values and actions for each state at each time point (assuming a fixed horizon length), starting with the last time point and moving backwards.\n",
    "\n",
    "There is one subtlety: trajectories can be of different length (because terminal states can be reached at different times), but we would like to create (number of states X number of times) matrices to represent *all* trajectories. The terminal state is therefore treated as a state that transitions to itself without reward until the end of the episode, which makes all trajectories have length $T$. Let's try it out.\n",
    "\n"
   ]
  },
  {
   "cell_type": "code",
   "execution_count": 11,
   "metadata": {},
   "outputs": [
    {
     "name": "stdout",
     "output_type": "stream",
     "text": [
      "\n",
      "██████████████\n",
      "██ ▹▿ ██ ▹☺ ██\n",
      "██ ▹▿ ██ ▹▵ ██\n",
      "██ ▹▿ ██ ▹▵ ██\n",
      "██ ▹▿ ██ ▹▵ ██\n",
      "██ ▹ ▹ ▹ ▹▵ ██\n",
      "██████████████\n"
     ]
    }
   ],
   "source": [
    "agent = Agents.DP_exact(env)\n",
    "agent.solve()  # this finds the optimal policy\n",
    "agent.show_policy()"
   ]
  },
  {
   "cell_type": "markdown",
   "metadata": {},
   "source": [
    "#### where exact dynamic programming beats other methods\n",
    "\n",
    "What's neat about this approach is that the optimal policy is a function of state *and* time, which should allow the policy to do well even when the environment is less Markovian. Consider the following maze, where an extra *non-terminal* reward of 5 is added. An optimal policy should repeatedly consume this reward before running to catch the 99 before the maximimum duration of the episode $(T=100)$ is reached."
   ]
  },
  {
   "cell_type": "code",
   "execution_count": 12,
   "metadata": {},
   "outputs": [
    {
     "name": "stdout",
     "output_type": "stream",
     "text": [
      "\n",
      "██████████████████\n",
      "██☺             ██\n",
      "██              ██\n",
      "██    99        ██\n",
      "██              ██\n",
      "██              ██\n",
      "██           5  ██\n",
      "██              ██\n",
      "██████████████████\n"
     ]
    }
   ],
   "source": [
    "env = mazes['loops']\n",
    "env.render()"
   ]
  },
  {
   "cell_type": "code",
   "execution_count": 13,
   "metadata": {},
   "outputs": [
    {
     "name": "stdout",
     "output_type": "stream",
     "text": [
      "total reward:\n",
      "258\n",
      "\n",
      "reward sequence:\n",
      "[-1, -1, -1, -1, -1, -1, -1, -1, -1, 5, -1, 5, -1, 5, -1, 5, -1, 5, -1, 5, -1, 5, -1, 5, -1, 5, -1, 5, -1, 5, -1, 5, -1, 5, -1, 5, -1, 5, -1, 5, -1, 5, -1, 5, -1, 5, -1, 5, -1, 5, -1, 5, -1, 5, -1, 5, -1, 5, -1, 5, -1, 5, -1, 5, -1, 5, -1, 5, -1, 5, -1, 5, -1, 5, -1, 5, -1, 5, -1, 5, -1, 5, -1, 5, -1, 5, -1, 5, -1, 5, -1, 5, -1, 5, -1, -1, -1, -1, -1, 99]\n",
      "\n",
      "\n",
      "policy at t=0\n",
      "\n",
      "██████████████████\n",
      "██ ▹ ▹ ▹ ▹ ▹▿  ◃██\n",
      "██ ▹ ▹ ▹ ▹ ▹▿  ◃██\n",
      "██ ▹▿ ☺  ▹ ▹▿  ◃██\n",
      "██ ▹ ▹ ▹ ▹ ▹▿  ◃██\n",
      "██ ▹ ▹ ▹ ▹ ▹▿  ◃██\n",
      "██ ▹ ▹ ▹ ▹ ▹ 5 ◃██\n",
      "██ ▹ ▹ ▹ ▹ ▹▵  ◃██\n",
      "██████████████████\n",
      "\n",
      "\n",
      "policy at t=95\n",
      "\n",
      "██████████████████\n",
      "██ ▹ ▹▿  ◃ ◃ ◃ ◃██\n",
      "██ ▹ ▹▿  ◃ ◃ ◃ ◃██\n",
      "██ ▹ ▹☺  ◃ ◃ ◃ ◃██\n",
      "██ ▹ ▹▵  ◃ ◃ ◃ ◃██\n",
      "██ ▹ ▹▵  ◃ ◃ ◃ ◃██\n",
      "██ ▹ ▹▵  ◃ ◃ 5 ◃██\n",
      "██ ◃ ▹▵  ◃ ▹▵  ◃██\n",
      "██████████████████\n"
     ]
    }
   ],
   "source": [
    "agent = Agents.DP_exact(env)\n",
    "agent.solve()  # this finds the optimal policy\n",
    "\n",
    "rewards = agent.rollout()[2]\n",
    "print('total reward:')\n",
    "print(sum(rewards))\n",
    "print('\\nreward sequence:')\n",
    "print(rewards)\n",
    "\n",
    "for t in [0,95]:\n",
    "    print('\\n\\npolicy at t={}'.format(t))\n",
    "    agent.show_policy(t=t)"
   ]
  },
  {
   "cell_type": "markdown",
   "metadata": {},
   "source": [
    "Nice. The agents keeps consuming the non-terminal reward of $5$ before running to catch the $99$ reward at the last moment (see the reward sequence above). At the beginning it even steers *around* the big reward (see policy at t=0). Whereas the agening moves toward the non-terminal reward at the beginning, it moves toward the big terminal reward near the end.\n",
    "\n",
    "Q-Learning never achieves the maximum value (see below). Here I increase $\\epsilon$ to make sure the $5$ is discovered. Still the agent doesn't receive the maximum possible reward because the policy draws it toward the $99$. This is to be expected. The policy is a function of state but not time, so the agent can't learn that the $5$ is good early on, and the $99$ is good later on."
   ]
  },
  {
   "cell_type": "code",
   "execution_count": 14,
   "metadata": {
    "scrolled": false
   },
   "outputs": [
    {
     "name": "stdout",
     "output_type": "stream",
     "text": [
      "\n",
      "██████████████████\n",
      "██ ▹ ▹▿  ◃ ◃▵  ▹██\n",
      "██ ▹ ▹▿  ◃ ◃ ◃▿ ██\n",
      "██ ▹ ▹☺  ◃ ◃ ◃ ▹██\n",
      "██▵ ▵ ▵ ▵ ▵ ▿  ◃██\n",
      "██▵ ▵ ▵ ▿  ▹▿  ◃██\n",
      "██ ◃▿  ▹ ◃ ▹ 5 ◃██\n",
      "██ ◃▵ ▿ ▿  ▹▵  ▹██\n",
      "██████████████████\n"
     ]
    },
    {
     "data": {
      "image/png": "[encoded data removed]",
      "text/plain": [
       "<Figure size 432x288 with 1 Axes>"
      ]
     },
     "metadata": {
      "needs_background": "light"
     },
     "output_type": "display_data"
    }
   ],
   "source": [
    "agent = Agents.QLearning(env)\n",
    "steps, reward = agent.train(iterations=1000, epsilon=.5, online_update=True, alpha=.05, gamma=1)\n",
    "\n",
    "agent.show_policy()\n",
    "\n",
    "\n",
    "ax = plt.axes(xlabel='episode', ylabel='episode reward')\n",
    "ax.plot(reward);\n",
    "\n"
   ]
  }
 ],
 "metadata": {
  "kernelspec": {
   "display_name": "Python 3",
   "language": "python",
   "name": "python3"
  },
  "language_info": {
   "codemirror_mode": {
    "name": "ipython",
    "version": 3
   },
   "file_extension": ".py",
   "mimetype": "text/x-python",
   "name": "python",
   "nbconvert_exporter": "python",
   "pygments_lexer": "ipython3",
   "version": "3.8.3"
  }
 },
 "nbformat": 4,
 "nbformat_minor": 4
}
