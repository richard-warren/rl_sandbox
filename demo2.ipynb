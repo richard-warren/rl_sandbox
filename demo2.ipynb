{
 "cells": [
  {
   "cell_type": "markdown",
   "metadata": {},
   "source": [
    "# grid world\n",
    "This is a simple gridworld implementation built in [openai gym](https://gym.openai.com/). The agent (☺) can move left, right, up, and down in user-defined mazes. A `nonterminal_reward` (-1 by default) is emited every step until one of the `terminal_states` is reached, each of which is associated with a user-defined reward. Actions that would move the agent into a wall have no effect on the state, but still cause the `non-terminal reward` to be emitted.\n",
    "\n",
    "Mazes can be created from scratch or loaded from`rickgrid.mazes`. To create from scratch:"
   ]
  },
  {
   "cell_type": "code",
   "execution_count": 1,
   "metadata": {},
   "outputs": [],
   "source": [
    "import gym\n",
    "import matplotlib.pyplot as plt\n",
    "from scipy.signal import medfilt\n",
    "import numpy as np\n",
    "from rickgrid.mazes import mazes\n",
    "from rickgrid import Agents\n",
    "\n",
    "%load_ext autoreload\n",
    "%autoreload 2\n",
    "np.random.seed(0)"
   ]
  },
  {
   "cell_type": "code",
   "execution_count": 2,
   "metadata": {},
   "outputs": [],
   "source": [
    "\n",
    "# make a simple maze\n",
    "env = gym.make('RickGrid-v0',\n",
    "               walls = np.array([[0,1,0,0,0],\n",
    "                                 [0,1,1,1,0],\n",
    "                                 [0,0,0,0,0],\n",
    "                                 [1,1,1,1,0],\n",
    "                                 [0,0,0,0,0]], dtype='bool'),\n",
    "               terminal_states = [[4,0,1], [0,2,10]],   # each terminal state has [row, col, reward]\n",
    "               start_coords = [0,0],                    # where the agent starts\n",
    "               nonterminal_reward=-1)                   # -1 reward per non-terminal step"
   ]
  },
  {
   "cell_type": "markdown",
   "metadata": {},
   "source": [
    "The environment behaves like other environments in openai gym. We can take actions visualize the result as follows:"
   ]
  },
  {
   "cell_type": "code",
   "execution_count": 3,
   "metadata": {},
   "outputs": [
    {
     "name": "stdout",
     "output_type": "stream",
     "text": [
      "\n",
      "██████████████\n",
      "██☺ ██10    ██\n",
      "██  ██████  ██\n",
      "██          ██\n",
      "██████████  ██\n",
      "██ 1        ██\n",
      "██████████████\n",
      "\n",
      "██████████████\n",
      "██☺ ██10    ██\n",
      "██  ██████  ██\n",
      "██          ██\n",
      "██████████  ██\n",
      "██ 1        ██\n",
      "██████████████\n"
     ]
    }
   ],
   "source": [
    "env.render(); # show maze\n",
    "env.step(1);  # step to the right\n",
    "env.render(); # show maze again"
   ]
  },
  {
   "cell_type": "markdown",
   "metadata": {},
   "source": [
    "# control methods\n",
    "\n",
    "To 'solve' these mazes, I've implmented Q-Learning, Monte Carlo, [Exact Dynamic Programming](https://web.mit.edu/dimitrib/www/RL_1-SHORT-INTERNET-POSTED.pdf), and Dynamic Programming (as described by [Sutton and Barto](https://web.stanford.edu/class/psych209/Readings/SuttonBartoIPRLBook2ndEd.pdf)). I will test these methods out on this simple default maze:"
   ]
  },
  {
   "cell_type": "code",
   "execution_count": 4,
   "metadata": {
    "scrolled": true
   },
   "outputs": [
    {
     "name": "stdout",
     "output_type": "stream",
     "text": [
      "\n",
      "██████████████\n",
      "██☺   ██   1██\n",
      "██    ██    ██\n",
      "██    ██    ██\n",
      "██    ██    ██\n",
      "██          ██\n",
      "██████████████\n"
     ]
    }
   ],
   "source": [
    "env = mazes['basic']\n",
    "env.render();"
   ]
  },
  {
   "cell_type": "markdown",
   "metadata": {},
   "source": [
    "## q-learning\n",
    "\n",
    "We can learn policies using action-value based tabular methods. In this [Q-Learning implementation](), the agent acts $\\epsilon$-greedy with respect to the estimated return for each state-action pair, $\\hat{q}(s,a)$. These estimates are updated online (after each step) according to\n",
    "\n",
    "$$\\hat{q}(s,a) \\leftarrow \\hat{q}(s,a) + \\alpha [R_t + \\gamma \\max_{a}\\hat{q}(S_{t+1},a) - \\hat{q}(s,a)]$$\n",
    "\n",
    "where $\\gamma$ is a discount factor ($\\gamma=1$ in this notebook) and $\\alpha$ is the learning rate.\n",
    "\n",
    "Let's train a Q agent!\n",
    "\n"
   ]
  },
  {
   "cell_type": "code",
   "execution_count": 5,
   "metadata": {
    "scrolled": true
   },
   "outputs": [
    {
     "data": {
      "image/png": "[encoded data removed]",
      "text/plain": [
       "<Figure size 432x288 with 1 Axes>"
      ]
     },
     "metadata": {
      "needs_background": "light"
     },
     "output_type": "display_data"
    }
   ],
   "source": [
    "agent = Agents.QLearning(env)\n",
    "steps, reward = agent.train(\n",
    "    iterations=1000,\n",
    "    max_steps=100,        # max steps per episode\n",
    "    epsilon=.05,\n",
    "    alpha=.05,\n",
    "    gamma=1,\n",
    "    online_update=True)   # update q on every step\n",
    "\n",
    "ax = plt.axes(xlabel='iteration', ylabel='steps')\n",
    "ax.plot(steps);"
   ]
  },
  {
   "cell_type": "markdown",
   "metadata": {},
   "source": [
    "We can can check the resultant policy and $\\hat{q}(s,a)$ as follows:"
   ]
  },
  {
   "cell_type": "code",
   "execution_count": 6,
   "metadata": {},
   "outputs": [
    {
     "name": "stdout",
     "output_type": "stream",
     "text": [
      "\n",
      "██████████████\n",
      "██▿ ▿ ██ ▹☺ ██\n",
      "██▿ ▿ ██ ▹▵ ██\n",
      "██▿ ▿ ██ ▹▵ ██\n",
      "██ ▹▿ ██ ▹▵ ██\n",
      "██ ▹ ▹ ▹▵ ▵ ██\n",
      "██████████████\n"
     ]
    },
    {
     "data": {
      "image/png": "[encoded data removed]",
      "text/plain": [
       "<Figure size 432x288 with 1 Axes>"
      ]
     },
     "metadata": {
      "needs_background": "light"
     },
     "output_type": "display_data"
    }
   ],
   "source": [
    "agent.show_policy()\n",
    "agent.show_q()"
   ]
  },
  {
   "cell_type": "markdown",
   "metadata": {},
   "source": [
    "## monte carlo\n",
    "\n",
    "We can also learn $\\hat{q}(s,a)$ using a [Monte Carlo method](). Again the agent acts $\\epsilon$-greedy, but the expected return for each state-action pair is approximated using an exponentially weighted emperical average. This average is computed incrementally as follows:\n",
    "\n",
    "$$\\hat{q}(s,a) \\leftarrow \\hat{q}(s,a) + \\alpha [G_t - \\hat{q}(s,a)]$$\n",
    "\n",
    "where $G_t = R_{t+1} + \\gamma R_{t+2} + \\gamma^2 R_{t+3} \\dots \\gamma^{T-t} R_T$ and $T$ is the number of time steps in the episode.\n",
    "\n",
    "Let's train a Monte Carlo agent!\n",
    "\n"
   ]
  },
  {
   "cell_type": "code",
   "execution_count": 7,
   "metadata": {
    "scrolled": true
   },
   "outputs": [
    {
     "data": {
      "image/png": "[encoded data removed]",
      "text/plain": [
       "<Figure size 432x288 with 1 Axes>"
      ]
     },
     "metadata": {
      "needs_background": "light"
     },
     "output_type": "display_data"
    }
   ],
   "source": [
    "agent = Agents.MonteCarlo(env)\n",
    "steps, reward = agent.train(\n",
    "    iterations=1000,\n",
    "    max_steps=100,\n",
    "    epsilon=.05,\n",
    "    alpha=.05,\n",
    "    gamma=1)\n",
    "\n",
    "ax = plt.axes(xlabel='iteration', ylabel='steps')\n",
    "ax.plot(steps);"
   ]
  },
  {
   "cell_type": "markdown",
   "metadata": {},
   "source": [
    "The learning curve is a little goofy. There seems to be an 'aha' moment. The agent has to accidentally discover the terminal location at least once before learning can really occur. This could be problematic for larger state spaces (see below)."
   ]
  },
  {
   "cell_type": "markdown",
   "metadata": {},
   "source": [
    "## (approximate) dynamic programming\n",
    "\n",
    "The following approach is referred to in [Sutton and Barto as 'dynamic programming'](http://incompleteideas.net/book/the-book-2nd.html), and by [Dimitri Bertsekas as 'approximate dynamic programming'](https://web.mit.edu/dimitrib/www/RL_1-SHORT-INTERNET-POSTED.pdf). It falls within the 'generalized policy iteration' framework, wherein we iterate between approximating the value function for the current policy (evaluation) and improving the policy based on the value function (improvement).\n",
    "\n",
    "To evaluate the action-value function for the curent policy we loop across state-action pairs and use the Bellman-like update rule\n",
    "\n",
    "$$ \\hat{q}_\\pi(s,a) \\leftarrow \\hat{q}_\\pi(s,a) + \\alpha (R_{t+1} + \\gamma \\hat{q}_\\pi(S_{t+1},A_{t+1}) - \\hat{q}_\\pi(s,a))$$\n",
    "\n",
    "where $A_{t+1}$ is chosen according to the policy under evaluation. In the following code we update $\\hat{q}_\\pi(s,a)$ `eval_iterations` times before updating the $\\epsilon$-greedy policy according to the new value function."
   ]
  },
  {
   "cell_type": "code",
   "execution_count": 25,
   "metadata": {},
   "outputs": [
    {
     "data": {
      "image/png": "[encoded data removed]",
      "text/plain": [
       "<Figure size 432x288 with 1 Axes>"
      ]
     },
     "metadata": {
      "needs_background": "light"
     },
     "output_type": "display_data"
    },
    {
     "data": {
      "image/png": "[encoded data removed]",
      "text/plain": [
       "<Figure size 432x288 with 1 Axes>"
      ]
     },
     "metadata": {
      "needs_background": "light"
     },
     "output_type": "display_data"
    },
    {
     "data": {
      "image/png": "[encoded data removed]",
      "text/plain": [
       "<Figure size 432x288 with 1 Axes>"
      ]
     },
     "metadata": {
      "needs_background": "light"
     },
     "output_type": "display_data"
    },
    {
     "data": {
      "image/png": "[encoded data removed]",
      "text/plain": [
       "<Figure size 432x288 with 1 Axes>"
      ]
     },
     "metadata": {
      "needs_background": "light"
     },
     "output_type": "display_data"
    },
    {
     "data": {
      "image/png": "[encoded data removed]",
      "text/plain": [
       "<Figure size 432x288 with 1 Axes>"
      ]
     },
     "metadata": {
      "needs_background": "light"
     },
     "output_type": "display_data"
    },
    {
     "data": {
      "image/png": "[encoded data removed]",
      "text/plain": [
       "<Figure size 432x288 with 1 Axes>"
      ]
     },
     "metadata": {
      "needs_background": "light"
     },
     "output_type": "display_data"
    },
    {
     "data": {
      "image/png": "[encoded data removed]",
      "text/plain": [
       "<Figure size 432x288 with 1 Axes>"
      ]
     },
     "metadata": {
      "needs_background": "light"
     },
     "output_type": "display_data"
    },
    {
     "data": {
      "image/png": "[encoded data removed]",
      "text/plain": [
       "<Figure size 432x288 with 1 Axes>"
      ]
     },
     "metadata": {
      "needs_background": "light"
     },
     "output_type": "display_data"
    },
    {
     "data": {
      "image/png": "[encoded data removed]",
      "text/plain": [
       "<Figure size 432x288 with 1 Axes>"
      ]
     },
     "metadata": {
      "needs_background": "light"
     },
     "output_type": "display_data"
    },
    {
     "data": {
      "image/png": "[encoded data removed]",
      "text/plain": [
       "<Figure size 432x288 with 1 Axes>"
      ]
     },
     "metadata": {
      "needs_background": "light"
     },
     "output_type": "display_data"
    }
   ],
   "source": [
    "agent = Agents.DP_approx(env)\n",
    "\n",
    "for i in range(10):\n",
    "    agent.evaluate_and_update(eval_iterations=100)\n",
    "    agent.show_q()"
   ]
  },
  {
   "cell_type": "markdown",
   "metadata": {},
   "source": [
    "## (exact) dynamic programming\n",
    "\n",
    "todo"
   ]
  },
  {
   "cell_type": "code",
   "execution_count": 11,
   "metadata": {},
   "outputs": [
    {
     "name": "stdout",
     "output_type": "stream",
     "text": [
      "\n",
      "██████████████\n",
      "██▿  ▹██▵ ☺ ██\n",
      "██▵ ▿ ██ ▹▵ ██\n",
      "██ ◃▿ ██ ◃ ◃██\n",
      "██▵  ▹██▵ ▵ ██\n",
      "██▵ ▿ ▿  ◃▿ ██\n",
      "██████████████\n",
      "\n",
      "██████████████\n",
      "██ ▹▿ ██ ▹☺ ██\n",
      "██▿ ▿ ██ ▹▵ ██\n",
      "██▿ ▿ ██ ▹▵ ██\n",
      "██ ▹▿ ██▵ ▵ ██\n",
      "██ ▹ ▹ ▹▵ ▵ ██\n",
      "██████████████\n"
     ]
    }
   ],
   "source": []
  }
 ],
 "metadata": {
  "kernelspec": {
   "display_name": "Python 3",
   "language": "python",
   "name": "python3"
  },
  "language_info": {
   "codemirror_mode": {
    "name": "ipython",
    "version": 3
   },
   "file_extension": ".py",
   "mimetype": "text/x-python",
   "name": "python",
   "nbconvert_exporter": "python",
   "pygments_lexer": "ipython3",
   "version": "3.8.3"
  }
 },
 "nbformat": 4,
 "nbformat_minor": 4
}
