{
 "cells": [
  {
   "cell_type": "markdown",
   "metadata": {
    "colab": {},
    "colab_type": "code",
    "id": "eVTEfxM1tmDu"
   },
   "source": [
    "# dm_control experiments\n",
    "\n",
    "we are going to try out DQN on dm_control. not ideal, but can discretize action space and restrict to tasks with action dimensionality < 2.\n",
    "- vanilla dqn\n",
    "- double dqn to reduce q value bias\n",
    "- 'optimisitc' dqn to encourage exploration"
   ]
  },
  {
   "cell_type": "markdown",
   "metadata": {},
   "source": [
    "# dqn\n",
    "\n",
    "dqn uses replay buffer to reduce correlations and target network to stabalize updates"
   ]
  },
  {
   "cell_type": "code",
   "execution_count": 82,
   "metadata": {
    "scrolled": true
   },
   "outputs": [
    {
     "name": "stdout",
     "output_type": "stream",
     "text": [
      "The autoreload extension is already loaded. To reload it, use:\n",
      "  %reload_ext autoreload\n"
     ]
    }
   ],
   "source": [
    "#@title setup\n",
    "\n",
    "%load_ext autoreload\n",
    "%autoreload 2\n",
    "\n",
    "import numpy as np\n",
    "from dm_control import suite\n",
    "from tqdm import tqdm\n",
    "import Agents, utils\n",
    "import tensorflow as tf\n",
    "import matplotlib.pyplot as plt\n",
    "import random\n",
    "\n",
    "# disable GPUs for tensorflow (CPU is faster for small networks/batches on my machine)\n",
    "tf.config.set_visible_devices([], 'GPU')\n",
    "visible_devices = tf.config.get_visible_devices()\n",
    "for device in visible_devices:\n",
    "    assert device.device_type != 'GPU'\n",
    "\n",
    "# plot mean with error bars\n",
    "def plot_perforamce(ax, x, data):\n",
    "    mean = np.array(data).T.mean(0)\n",
    "    std = np.array(data).T.std(0)\n",
    "    ax.plot(x, mean)\n",
    "    ax.fill_between(x, mean+std, mean-std, alpha=.15)\n",
    "\n",
    "# reset random seeds\n",
    "def rand_seed_reset(env, i):\n",
    "    random.seed(i)\n",
    "    np.random.seed(i)\n",
    "    tf.random.set_seed(i)\n",
    "    env.task.random.seed(i)\n"
   ]
  },
  {
   "cell_type": "markdown",
   "metadata": {},
   "source": [
    "details:\n",
    "- actions are discretized like this...\n",
    "- q network an mlp\n",
    "- trained for `episodes`, adding batch to buffer of size `buffer_length` at each step. \n",
    "time resolution is high, therefore actions repeated 4 times (cite) and q is updated every `steps_per_update` steps\n",
    "- `q_target` only updated every 100 times....\n",
    "- epsilon linearly annealed from x to y over z episodes\n",
    "- initialize buffer"
   ]
  },
  {
   "cell_type": "code",
   "execution_count": 114,
   "metadata": {},
   "outputs": [],
   "source": [
    "# @title hyperparameters \n",
    "\n",
    "# agent\n",
    "agent_args = dict(\n",
    "    action_grid = 2,            # number of discrete actions per action dimension\n",
    "    units_per_layer = (12,24),  # hidden units per layer\n",
    "    buffer_length = 50000,\n",
    "    q_update_interval = 100,    # q updates per q_target update\n",
    "    learning_rate = .001,       # learning rate (adam optimizer)       \n",
    ")\n",
    "\n",
    "# training\n",
    "train_args = dict(\n",
    "    episodes = 200,\n",
    "    batch_size = 64,\n",
    "    action_repeats = 4,         # repeat each action this number of times during training\n",
    "    steps_per_update = 8,       # environment steps before updating q\n",
    "    gamma = .99,\n",
    "    epsilon_start = 1,\n",
    "    epsilon_final = .1,\n",
    "    epsilon_final_episode = (episodes*.5),   # episode at which epsilon_final is reached\n",
    ")"
   ]
  },
  {
   "cell_type": "markdown",
   "metadata": {},
   "source": [
    "## pendulum\n",
    "\n",
    "- state space only r2 and action space r1 - try this out to make sure everything is in order\n",
    "- explain evaluation metrics... evaluated every n eps, avg of m eps with z epsilon\n"
   ]
  },
  {
   "cell_type": "code",
   "execution_count": null,
   "metadata": {},
   "outputs": [
    {
     "name": "stdout",
     "output_type": "stream",
     "text": [
      "initializing replay buffer...\n"
     ]
    },
    {
     "data": {
      "application/vnd.jupyter.widget-view+json": {
       "model_id": "9267db4f5eae43ad9143fbe880244428",
       "version_major": 2,
       "version_minor": 0
      },
      "text/plain": [
       "HBox(children=(FloatProgress(value=0.0, max=50000.0), HTML(value='')))"
      ]
     },
     "metadata": {},
     "output_type": "display_data"
    },
    {
     "name": "stdout",
     "output_type": "stream",
     "text": [
      "\n",
      "training agent...\n"
     ]
    },
    {
     "data": {
      "application/vnd.jupyter.widget-view+json": {
       "model_id": "53cc74797bb14070900e337e913b6c49",
       "version_major": 2,
       "version_minor": 0
      },
      "text/plain": [
       "HBox(children=(FloatProgress(value=0.0, max=200.0), HTML(value='')))"
      ]
     },
     "metadata": {},
     "output_type": "display_data"
    },
    {
     "name": "stdout",
     "output_type": "stream",
     "text": [
      "iteration 10, avg return 140.79, epsilon 0.92, returns: [148, 133, 157, 141, 139, 143, 137, 139, 134, 132]\n"
     ]
    }
   ],
   "source": [
    "# make environment and agent\n",
    "env = suite.load('cartpole', 'swingup')\n",
    "rand_seed_reset(env, 0)\n",
    "agent = Agents.Agent(env.observation_spec(), env.action_spec(), **agent_args)\n",
    "utils.initialize_buffer(agent, env)\n",
    "\n",
    "# train\n",
    "episode_num, returns = utils.train(agent, env, **train_args,\n",
    "                                   eval_interval=10, verbose=True)\n",
    "\n",
    "# plot performance over training\n",
    "ax = plt.axes(xlabel='episode', ylabel='return', ylim=(0,1000))\n",
    "plot_perforamce(ax, episode_num, returns)\n"
   ]
  },
  {
   "cell_type": "code",
   "execution_count": null,
   "metadata": {},
   "outputs": [],
   "source": [
    "utils.show_rollout_jupyter(agent, env, epsilon=.05)"
   ]
  }
 ],
 "metadata": {
  "colab": {
   "authorship_tag": "ABX9TyMIMwli/Fl2rto2fCxZqS+/",
   "collapsed_sections": [],
   "include_colab_link": true,
   "name": "dqn_demo.ipynb",
   "provenance": []
  },
  "kernelspec": {
   "display_name": "Python 3",
   "language": "python",
   "name": "python3"
  },
  "language_info": {
   "codemirror_mode": {
    "name": "ipython",
    "version": 3
   },
   "file_extension": ".py",
   "mimetype": "text/x-python",
   "name": "python",
   "nbconvert_exporter": "python",
   "pygments_lexer": "ipython3",
   "version": "3.7.7"
  }
 },
 "nbformat": 4,
 "nbformat_minor": 1
}
