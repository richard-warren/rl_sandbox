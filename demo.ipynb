{
 "cells": [
  {
   "cell_type": "markdown",
   "metadata": {},
   "source": [
    "# grid world\n",
    "Here's a little gridworld implementation that works in conjunction with [openai gym](https://gym.openai.com/). The agent (☺) can move left, right, up, and down in user-defined mazes. A `nonterminal_reward` is emited every step until one of the `terminal states` is reached, which have their own associated rewards.\n",
    "\n",
    "Here's how we create a maze:"
   ]
  },
  {
   "cell_type": "code",
   "execution_count": 1,
   "metadata": {},
   "outputs": [],
   "source": [
    "import gym\n",
    "import rickgrid\n",
    "import numpy as np\n",
    "import matplotlib.pyplot as plt\n",
    "from rickgrid import Control\n",
    "from scipy.signal import medfilt\n",
    "\n",
    "# define simple maze\n",
    "np.random.seed(0)\n",
    "env = gym.make('RickGrid-v0',\n",
    "               walls = np.array([[0,0,1,0,0],\n",
    "                                 [0,0,1,0,0],\n",
    "                                 [0,0,1,0,0],\n",
    "                                 [0,0,1,0,0],\n",
    "                                 [0,0,0,0,0]], dtype='bool'),\n",
    "               terminal_states = [[0,4,1]],     # each reward is a terminal state characterized by [row, col, value]\n",
    "               start_coords = [0,0],    # where the agent starts\n",
    "               nonterminal_reward=-1)   # -1 per non-terminal step"
   ]
  },
  {
   "cell_type": "markdown",
   "metadata": {},
   "source": [
    "We have take actions and visualize the results as follows:"
   ]
  },
  {
   "cell_type": "code",
   "execution_count": 2,
   "metadata": {
    "scrolled": true
   },
   "outputs": [
    {
     "name": "stdout",
     "output_type": "stream",
     "text": [
      "\n",
      "██████████████\n",
      "██☺   ██   1██\n",
      "██    ██    ██\n",
      "██    ██    ██\n",
      "██    ██    ██\n",
      "██          ██\n",
      "██████████████\n",
      "\n",
      "██████████████\n",
      "██  ☺ ██   1██\n",
      "██    ██    ██\n",
      "██    ██    ██\n",
      "██    ██    ██\n",
      "██          ██\n",
      "██████████████\n"
     ]
    }
   ],
   "source": [
    "env.render(); # show maze\n",
    "env.step(1);  # step to the right\n",
    "env.render(); # show maze again"
   ]
  },
  {
   "cell_type": "markdown",
   "metadata": {},
   "source": [
    "# q learning\n",
    "We can learn policies using action-value based tabular methods, each of which acts $\\epsilon$-greedy with respect to $\\hat{q}(s,a)$. Let's try the [Q-Learning implemention](https://github.com/rwarren2163/rl_sandbox/blob/71254fe327a56a019556286f7ff238e803cd9386/rickgrid/Control.py#L56):"
   ]
  },
  {
   "cell_type": "code",
   "execution_count": 3,
   "metadata": {},
   "outputs": [
    {
     "data": {
      "image/png": "[encoded data removed]",
      "text/plain": [
       "<Figure size 432x288 with 1 Axes>"
      ]
     },
     "metadata": {
      "needs_background": "light"
     },
     "output_type": "display_data"
    }
   ],
   "source": [
    "# set up Q Learning object\n",
    "ctl = Control.QLearning(env)\n",
    "\n",
    "# train, recording number of steps and total reward per episode\n",
    "steps = ctl.train(alpha=.05, gamma=1, epsilon=.05, episodes=1000)[0];\n",
    "\n",
    "# plot steps per episode\n",
    "ax = plt.axes(xlabel='episode', ylabel='steps')\n",
    "ax.plot(steps);"
   ]
  },
  {
   "cell_type": "markdown",
   "metadata": {},
   "source": [
    "The number of steps per episode decreases with learning. Nice. Note that episodes terminate automatically after 100 steps if a terminal state hasn't been reached.\n",
    "\n",
    "Let's check out the policy by passing $\\hat{q}(s,a)$ to the environment renderer:"
   ]
  },
  {
   "cell_type": "code",
   "execution_count": 4,
   "metadata": {},
   "outputs": [
    {
     "name": "stdout",
     "output_type": "stream",
     "text": [
      "\n",
      "██████████████\n",
      "██☺  D██ R 1██\n",
      "██ D D██ R U██\n",
      "██ R D██ R U██\n",
      "██ D D██ U U██\n",
      "██ R R R U U██\n",
      "██████████████\n"
     ]
    }
   ],
   "source": [
    "env.reset()\n",
    "env.render(Q=ctl.Q);"
   ]
  },
  {
   "cell_type": "markdown",
   "metadata": {},
   "source": [
    "This looks non-crazy.\n",
    "\n",
    "Let's see how the action-value function changes over learning. Here I'm showing the value of each state (estimated as the max across actions [left column]) and the value for each of four actions estimated over the first 4 episodes. Structure in the value function emerges super quickly:"
   ]
  },
  {
   "cell_type": "code",
   "execution_count": 5,
   "metadata": {
    "scrolled": false
   },
   "outputs": [
    {
     "name": "stdout",
     "output_type": "stream",
     "text": [
      "episode 1\n"
     ]
    },
    {
     "data": {
      "image/png": "[encoded data removed]",
      "text/plain": [
       "<Figure size 432x288 with 5 Axes>"
      ]
     },
     "metadata": {},
     "output_type": "display_data"
    },
    {
     "name": "stdout",
     "output_type": "stream",
     "text": [
      "episode 2\n"
     ]
    },
    {
     "data": {
      "image/png": "[encoded data removed]",
      "text/plain": [
       "<Figure size 432x288 with 5 Axes>"
      ]
     },
     "metadata": {},
     "output_type": "display_data"
    },
    {
     "name": "stdout",
     "output_type": "stream",
     "text": [
      "episode 3\n"
     ]
    },
    {
     "data": {
      "image/png": "[encoded data removed]",
      "text/plain": [
       "<Figure size 432x288 with 5 Axes>"
      ]
     },
     "metadata": {},
     "output_type": "display_data"
    },
    {
     "name": "stdout",
     "output_type": "stream",
     "text": [
      "episode 4\n"
     ]
    },
    {
     "data": {
      "image/png": "[encoded data removed]",
      "text/plain": [
       "<Figure size 432x288 with 5 Axes>"
      ]
     },
     "metadata": {},
     "output_type": "display_data"
    }
   ],
   "source": [
    "ctl.resetQ();  # reset Q to initial values\n",
    "\n",
    "for i in range(1,5):\n",
    "    ctl.train(alpha=.05, gamma=1, epsilon=.05, episodes=1);\n",
    "    print('episode {}'.format(i))\n",
    "    ctl.plotQ();\n",
    "    \n",
    "    "
   ]
  },
  {
   "cell_type": "markdown",
   "metadata": {},
   "source": [
    "# monte carlo\n",
    "\n",
    "Let's try the [Monte Carlo implementation](https://github.com/rwarren2163/rl_sandbox/blob/71254fe327a56a019556286f7ff238e803cd9386/rickgrid/Control.py#L109). This is an 'every visit' Monte Carlo approach that uses a non-stationary estimate of the action-value function. The update rule is: $\\hat{q}(S_t,A_t) \\leftarrow \\hat{q}(S_t,A_t) + \\alpha[G_t - \\hat{q}(S_t,A_t)]$"
   ]
  },
  {
   "cell_type": "code",
   "execution_count": 6,
   "metadata": {
    "scrolled": true
   },
   "outputs": [
    {
     "name": "stdout",
     "output_type": "stream",
     "text": [
      "\n",
      "██████████████\n",
      "██☺  D██ R 1██\n",
      "██ R D██ U U██\n",
      "██ R D██ R U██\n",
      "██ R D██ R U██\n",
      "██ R R R U U██\n",
      "██████████████\n"
     ]
    },
    {
     "data": {
      "image/png": "[encoded data removed]",
      "text/plain": [
       "<Figure size 432x288 with 1 Axes>"
      ]
     },
     "metadata": {
      "needs_background": "light"
     },
     "output_type": "display_data"
    }
   ],
   "source": [
    "# set up Monte Carlo object\n",
    "ctl = Control.MonteCarlo(env)\n",
    "\n",
    "# train, recording number of steps per episode\n",
    "steps = ctl.train(alpha=.05, gamma=1, epsilon=.05, episodes=1000)[0]\n",
    "\n",
    "# show policy\n",
    "env.reset()\n",
    "env.render(Q=ctl.Q);\n",
    "\n",
    "# plot steps per episode\n",
    "ax = plt.axes(xlabel='episode', ylabel='steps')\n",
    "ax.plot(steps);"
   ]
  },
  {
   "cell_type": "markdown",
   "metadata": {},
   "source": [
    "The learning curve is a little goofy. There seems to be an 'aha' moment. The agent has to accidentally discover the terminal location at least once before learning can really occur. This could be problematic for larger state spaces (see below)."
   ]
  },
  {
   "cell_type": "markdown",
   "metadata": {},
   "source": [
    "# explore vs. exploit maze\n",
    "Default mazes are defined in `rickgrid.mazes`, and include one where an agent should learn to ignore a proximal reward for a big reward that can only be discovered via exploration.\n",
    "\n"
   ]
  },
  {
   "cell_type": "code",
   "execution_count": 7,
   "metadata": {
    "scrolled": true
   },
   "outputs": [
    {
     "name": "stdout",
     "output_type": "stream",
     "text": [
      "\n",
      "████████████████████████████████████████████\n",
      "██☺     ██        ██                      ██\n",
      "██  ██    ██████  ██  ██████████████████  ██\n",
      "██    ██          ██            ██        ██\n",
      "██  ██  ████████  ██  ████████████  ████████\n",
      "██            ██               1██      99██\n",
      "████████████████████████████████████████████\n"
     ]
    }
   ],
   "source": [
    "from rickgrid.mazes import mazes\n",
    "env = gym.make('RickGrid-v0', **mazes[0])\n",
    "env.render();"
   ]
  },
  {
   "cell_type": "markdown",
   "metadata": {},
   "source": [
    "Let's apply our Q-Learning strategy from above, this time plotting the reward per episode:"
   ]
  },
  {
   "cell_type": "code",
   "execution_count": 8,
   "metadata": {
    "scrolled": true
   },
   "outputs": [
    {
     "data": {
      "image/png": "[encoded data removed]",
      "text/plain": [
       "<Figure size 432x288 with 1 Axes>"
      ]
     },
     "metadata": {
      "needs_background": "light"
     },
     "output_type": "display_data"
    },
    {
     "data": {
      "image/png": "[encoded data removed]",
      "text/plain": [
       "<Figure size 576x2304 with 1 Axes>"
      ]
     },
     "metadata": {},
     "output_type": "display_data"
    }
   ],
   "source": [
    "ctl = Control.QLearning(env)\n",
    "rewards = ctl.train(alpha=.05, gamma=1, epsilon=.05, episodes=2000)[1]\n",
    "\n",
    "# plot rewards and value function\n",
    "ax = plt.axes(xlabel='episode', ylabel='reward', ylim=[-100,75])\n",
    "ax.plot(rewards);\n",
    "ctl.plotQ(figsize=(8,32), max_only=True)"
   ]
  },
  {
   "cell_type": "markdown",
   "metadata": {},
   "source": [
    "The reward has plateaued around -20. This is much lower that what the agent would get if the 99 reward were discovered. The value function reveals why. The corridor with the 1 is drawing the agent in, leaving the more valuable corridor insufficiently explored. Let's fix this."
   ]
  },
  {
   "cell_type": "markdown",
   "metadata": {},
   "source": [
    "## fix 1: optimism in the face of uncertainty\n",
    "\n",
    "Let's initialize the $\\hat{q}(s,a)$ with exremely optimistic values of 99. This will encourage the agent to explore the unexplored, ultimately discovering the big reward."
   ]
  },
  {
   "cell_type": "code",
   "execution_count": 9,
   "metadata": {},
   "outputs": [
    {
     "data": {
      "image/png": "[encoded data removed]",
      "text/plain": [
       "<Figure size 432x288 with 1 Axes>"
      ]
     },
     "metadata": {
      "needs_background": "light"
     },
     "output_type": "display_data"
    },
    {
     "data": {
      "image/png": "[encoded data removed]",
      "text/plain": [
       "<Figure size 576x2304 with 1 Axes>"
      ]
     },
     "metadata": {},
     "output_type": "display_data"
    }
   ],
   "source": [
    "ctl = Control.QLearning(env, Q_init=99)  # initialize Q with values of 99\n",
    "rewards = ctl.train(alpha=.05, gamma=1, epsilon=.05, episodes=4000)[1]\n",
    "\n",
    "# plot rewards and value function\n",
    "ax = plt.axes(xlabel='episode', ylabel='reward', ylim=[-100,75])\n",
    "ax.plot(rewards);\n",
    "ctl.plotQ(figsize=(8,32), max_only=True)"
   ]
  },
  {
   "cell_type": "markdown",
   "metadata": {},
   "source": [
    "Take a look at the policy below. Some states that aren't visited under the policy still have weird actions (like in the lower left corner). However, this does not affect performance unless non-greedy actions pull the agent to these strange corners of state space."
   ]
  },
  {
   "cell_type": "code",
   "execution_count": 10,
   "metadata": {},
   "outputs": [
    {
     "name": "stdout",
     "output_type": "stream",
     "text": [
      "\n",
      "████████████████████████████████████████████\n",
      "██☺  R D██ L L L R██ R R R R R R R R R R D██\n",
      "██ D██ R D██████ D██ U██████████████████ D██\n",
      "██ L D██ R R R R D██ U R D R D R██ D L L L██\n",
      "██ R██ U████████ D██ U████████████ D████████\n",
      "██ R R D U R D██ R R U L U U D 1██ R R R99██\n",
      "████████████████████████████████████████████\n"
     ]
    }
   ],
   "source": [
    "env.reset()\n",
    "env.render(Q=ctl.Q);"
   ]
  },
  {
   "cell_type": "markdown",
   "metadata": {},
   "source": [
    "## fix 2: exploring starts\n",
    "\n",
    "Instead of starting the agent in the top left corner every time, let's randomize the start state. This guarantees the state space is explored, and should fix the weird decisions that are made in unvisisted states shown above. We'll need to train it for a bit longer though."
   ]
  },
  {
   "cell_type": "code",
   "execution_count": 11,
   "metadata": {
    "scrolled": true
   },
   "outputs": [
    {
     "data": {
      "image/png": "[encoded data removed]",
      "text/plain": [
       "<Figure size 432x288 with 1 Axes>"
      ]
     },
     "metadata": {
      "needs_background": "light"
     },
     "output_type": "display_data"
    }
   ],
   "source": [
    "env_rando = gym.make('RickGrid-v0', **mazes[0], random_start=True)\n",
    "ctl = Control.QLearning(env_rando)\n",
    "rewards = ctl.train(alpha=.05, gamma=1, epsilon=.2, episodes=10000)[1]  # cranking up epsilon helps a lot\n",
    "\n",
    "# plot rewards and value function\n",
    "ax = plt.axes(xlabel='episode', ylabel='reward', ylim=[-100,75])\n",
    "ax.plot(medfilt(rewards, 99));"
   ]
  },
  {
   "cell_type": "markdown",
   "metadata": {},
   "source": [
    "It takes a while for the agent to realize it should make the long trek to the distant reward. Plotting the policy and value function as they evolve shows why:"
   ]
  },
  {
   "cell_type": "code",
   "execution_count": 12,
   "metadata": {},
   "outputs": [
    {
     "name": "stdout",
     "output_type": "stream",
     "text": [
      "\n",
      "\n",
      "episode 1000\n"
     ]
    },
    {
     "data": {
      "image/png": "[encoded data removed]",
      "text/plain": [
       "<Figure size 432x288 with 1 Axes>"
      ]
     },
     "metadata": {},
     "output_type": "display_data"
    },
    {
     "name": "stdout",
     "output_type": "stream",
     "text": [
      "\n",
      "████████████████████████████████████████████\n",
      "██ R R D██ U D L R██ R R D R D L R R R R D██\n",
      "██ L██ R D██████ D██ D██████████████████ D██\n",
      "██ R D██ R R R R D██ D L L U U R██ D L L L██\n",
      "██ U██ U████████ D██ D████████████ D████████\n",
      "██ D U D R D R██ R R R R R R R☺ ██ R R R99██\n",
      "████████████████████████████████████████████\n",
      "\n",
      "\n",
      "episode 4000\n"
     ]
    },
    {
     "data": {
      "image/png": "[encoded data removed]",
      "text/plain": [
       "<Figure size 432x288 with 1 Axes>"
      ]
     },
     "metadata": {},
     "output_type": "display_data"
    },
    {
     "name": "stdout",
     "output_type": "stream",
     "text": [
      "\n",
      "████████████████████████████████████████████\n",
      "██ R R D██ U R R D██ D R R R R R R R R R D██\n",
      "██ U██ R D██████ D██ D██████████████████ D██\n",
      "██ U L██ R R R R D██ D L L L L U██ D L L L██\n",
      "██ U██ D████████ D██ D████████████ D████████\n",
      "██ U L L L U L██ R R R R R R R☺ ██ R R R99██\n",
      "████████████████████████████████████████████\n",
      "\n",
      "\n",
      "episode 10000\n"
     ]
    },
    {
     "data": {
      "image/png": "[encoded data removed]",
      "text/plain": [
       "<Figure size 432x288 with 1 Axes>"
      ]
     },
     "metadata": {},
     "output_type": "display_data"
    },
    {
     "name": "stdout",
     "output_type": "stream",
     "text": [
      "\n",
      "████████████████████████████████████████████\n",
      "██ R R D██ R R R D██ R R R R R R R R R R D██\n",
      "██ U██ R D██████ D██ U██████████████████ D██\n",
      "██ U L██ R R R R D██ U L L L L L██ D L L L██\n",
      "██ U██ D████████ D██ U████████████ D████████\n",
      "██ U L L L L L██ R R U R R R R 1██ R R R☺ ██\n",
      "████████████████████████████████████████████\n"
     ]
    }
   ],
   "source": [
    "ctl.resetQ();  # reset Q to initial values\n",
    "\n",
    "eps = [0, 1000, 4000, 10000]\n",
    "\n",
    "for i in range(1, len(eps)):\n",
    "    ctl.train(alpha=.05, gamma=1, epsilon=.2, episodes=(eps[i]-eps[i-1]));\n",
    "    print('\\n\\nepisode {}'.format(eps[i]))\n",
    "    ctl.plotQ(max_only=True);\n",
    "    env_rando.render(Q=ctl.Q);"
   ]
  },
  {
   "cell_type": "markdown",
   "metadata": {},
   "source": [
    "The value must propogate backwards from the corner over time. When a location has already been 'linked' with the small reward, associating it with the path to the high reward requires that the agent take the non-greedy step in the right direction. This is why cranking up $\\epsilon$ really helped in this experiment."
   ]
  },
  {
   "cell_type": "code",
   "execution_count": null,
   "metadata": {},
   "outputs": [],
   "source": []
  }
 ],
 "metadata": {
  "kernelspec": {
   "display_name": "Python 3",
   "language": "python",
   "name": "python3"
  },
  "language_info": {
   "codemirror_mode": {
    "name": "ipython",
    "version": 3
   },
   "file_extension": ".py",
   "mimetype": "text/x-python",
   "name": "python",
   "nbconvert_exporter": "python",
   "pygments_lexer": "ipython3",
   "version": "3.8.3"
  }
 },
 "nbformat": 4,
 "nbformat_minor": 4
}
