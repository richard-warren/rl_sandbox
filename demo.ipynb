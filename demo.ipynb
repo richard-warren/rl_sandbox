{
 "cells": [
  {
   "cell_type": "markdown",
   "metadata": {},
   "source": [
    "# grid world\n",
    "This gridworld implementation works in conjunction with [openai gym](https://gym.openai.com/). The agent (smiley face) can move left, right, up, and down in arbitrary, user-defined mazes. A `nonterminal_reward` is emited at every time step until a terminal state is reached, at which point the agent gets a user-defined reward."
   ]
  },
  {
   "cell_type": "code",
   "execution_count": 1,
   "metadata": {},
   "outputs": [
    {
     "name": "stdout",
     "output_type": "stream",
     "text": [
      "\n",
      "██████████████\n",
      "██☺   ██   1██\n",
      "██    ██    ██\n",
      "██    ██    ██\n",
      "██    ██    ██\n",
      "██          ██\n",
      "██████████████\n",
      "\n",
      "██████████████\n",
      "██  ☺ ██   1██\n",
      "██    ██    ██\n",
      "██    ██    ██\n",
      "██    ██    ██\n",
      "██          ██\n",
      "██████████████\n"
     ]
    }
   ],
   "source": [
    "import gym\n",
    "import rickgrid\n",
    "from rickgrid.mazes import mazes\n",
    "import numpy as np\n",
    "import matplotlib.pyplot as plt\n",
    "from rickgrid import Control\n",
    "\n",
    "# define simple maze\n",
    "env = gym.make('RickGrid-v0',\n",
    "               walls = np.array([[0,0,1,0,0],\n",
    "                                 [0,0,1,0,0],\n",
    "                                 [0,0,1,0,0],\n",
    "                                 [0,0,1,0,0],\n",
    "                                 [0,0,0,0,0]], dtype='bool'),\n",
    "               rewards = [[0,4,1]],\n",
    "               start_coords = [0,0],\n",
    "               nonterminal_reward=-1,\n",
    "               random_start=False)\n",
    "\n",
    "env.render(); # show maze\n",
    "env.step(1);  # step to the right\n",
    "env.render(); # show maze again\n",
    "\n"
   ]
  },
  {
   "cell_type": "markdown",
   "metadata": {},
   "source": [
    "# algorithms\n",
    "We can learn policies using action-value based tabular approaches, each of which actions $\\epsilon$-greedy with respect to $\\hat{q}(s,a)$."
   ]
  },
  {
   "cell_type": "code",
   "execution_count": 59,
   "metadata": {},
   "outputs": [
    {
     "data": {
      "image/png": "[encoded data removed]",
      "text/plain": [
       "<Figure size 432x288 with 1 Axes>"
      ]
     },
     "metadata": {
      "needs_background": "light"
     },
     "output_type": "display_data"
    }
   ],
   "source": [
    "# set up Q Learning object\n",
    "ctl_q = Control.QLearning(env)\n",
    "\n",
    "# train, recording number of steps per episode\n",
    "steps_q = ctl_q.train(alpha=.05, gamma=1, epsilon=.05,\n",
    "                    episodes=1000,\n",
    "                    episodes_per_render=None,\n",
    "                    verbose=False);\n",
    "\n",
    "# plot steps per episode\n",
    "ax = plt.axes(xlabel='episode', ylabel='steps')\n",
    "ax.plot(steps_q);"
   ]
  },
  {
   "cell_type": "markdown",
   "metadata": {},
   "source": [
    "The number of steps per episode has decreased. Nice. Let's check out the policy after training by passing the learned $\\hat{q}(s,a)$ to the environment renderer:"
   ]
  },
  {
   "cell_type": "code",
   "execution_count": 61,
   "metadata": {},
   "outputs": [
    {
     "name": "stdout",
     "output_type": "stream",
     "text": [
      "\n",
      "██████████████\n",
      "██☺ ⇩ ██ ⇨ 1██\n",
      "██⇩ ⇩ ██ ⇨⇧ ██\n",
      "██⇩ ⇩ ██ ⇨⇧ ██\n",
      "██⇩ ⇩ ██ ⇨⇧ ██\n",
      "██ ⇨ ⇨ ⇨⇧ ⇧ ██\n",
      "██████████████\n"
     ]
    }
   ],
   "source": [
    "env.reset()\n",
    "env.render(Q=ctl_q.Q);"
   ]
  },
  {
   "cell_type": "markdown",
   "metadata": {},
   "source": [
    "This seems non-crazy! Let's try Monte Carlo:"
   ]
  },
  {
   "cell_type": "code",
   "execution_count": 69,
   "metadata": {},
   "outputs": [
    {
     "name": "stdout",
     "output_type": "stream",
     "text": [
      "\n",
      "██████████████\n",
      "██☺ ⇩ ██ ⇨ 1██\n",
      "██⇩  ⇦██⇧ ⇧ ██\n",
      "██⇩ ⇧ ██⇧ ⇧ ██\n",
      "██⇩ ⇧ ██ ⇨⇧ ██\n",
      "██ ⇨ ⇨ ⇨⇧ ⇧ ██\n",
      "██████████████\n"
     ]
    },
    {
     "data": {
      "image/png": "[encoded data removed]",
      "text/plain": [
       "<Figure size 432x288 with 1 Axes>"
      ]
     },
     "metadata": {
      "needs_background": "light"
     },
     "output_type": "display_data"
    }
   ],
   "source": [
    "# set up Monte Carlo object\n",
    "ctl_mc = Control.MonteCarlo(env)\n",
    "env.random_start = False\n",
    "\n",
    "# train, recording number of steps per episode\n",
    "steps_mc = ctl_mc.train(alpha=.05, gamma=1, epsilon=.05,\n",
    "                        episodes=1000,\n",
    "                        episodes_per_render=None,\n",
    "                         verbose=False);\n",
    "\n",
    "# show policy\n",
    "env.reset()\n",
    "env.render(Q=ctl_mc.Q);\n",
    "\n",
    "# plot steps per episode\n",
    "ax = plt.axes(xlabel='episode', ylabel='steps')\n",
    "ax.plot(steps_mc);"
   ]
  },
  {
   "cell_type": "markdown",
   "metadata": {},
   "source": [
    "What a goofy learning curve. There seems to be an 'aha' moment at ~200 episodes. The agent has to 'accidentally' discover the terminal location at least once before learning can really occur. This could be a major challenge, especially if the path to the reward were longer than it is."
   ]
  }
 ],
 "metadata": {
  "kernelspec": {
   "display_name": "Python 3",
   "language": "python",
   "name": "python3"
  },
  "language_info": {
   "codemirror_mode": {
    "name": "ipython",
    "version": 3
   },
   "file_extension": ".py",
   "mimetype": "text/x-python",
   "name": "python",
   "nbconvert_exporter": "python",
   "pygments_lexer": "ipython3",
   "version": "3.8.3"
  }
 },
 "nbformat": 4,
 "nbformat_minor": 4
}
