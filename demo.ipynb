{
 "cells": [
  {
   "cell_type": "markdown",
   "metadata": {},
   "source": [
    "# grid world\n",
    "Here's a little gridworld implementation that works in conjunction with [openai gym](https://gym.openai.com/). The agent (☺) can move left, right, up, and down in arbitrary, user-defined mazes. A `nonterminal_reward` is emited at every time step until a terminal state is reached, at which point the agent gets a user-defined reward.\n",
    "\n",
    "Here's how we create a maze:"
   ]
  },
  {
   "cell_type": "code",
   "execution_count": 1,
   "metadata": {},
   "outputs": [],
   "source": [
    "import gym\n",
    "import rickgrid\n",
    "import numpy as np\n",
    "import matplotlib.pyplot as plt\n",
    "from rickgrid import Control\n",
    "\n",
    "# define simple maze\n",
    "np.random.seed(0)\n",
    "env = gym.make('RickGrid-v0',\n",
    "               walls = np.array([[0,0,1,0,0],\n",
    "                                 [0,0,1,0,0],\n",
    "                                 [0,0,1,0,0],\n",
    "                                 [0,0,1,0,0],\n",
    "                                 [0,0,0,0,0]], dtype='bool'),\n",
    "               rewards = [[0,4,1]],     # each reward is a terminal state characterized by [row, col, value]\n",
    "               start_coords = [0,0],    # where the agent starts\n",
    "               nonterminal_reward=-1)   # -1 per non-terminal step"
   ]
  },
  {
   "cell_type": "markdown",
   "metadata": {},
   "source": [
    "We have take actions and visualize the results as follows:"
   ]
  },
  {
   "cell_type": "code",
   "execution_count": 2,
   "metadata": {
    "scrolled": true
   },
   "outputs": [
    {
     "name": "stdout",
     "output_type": "stream",
     "text": [
      "\n",
      "██████████████\n",
      "██☺   ██   1██\n",
      "██    ██    ██\n",
      "██    ██    ██\n",
      "██    ██    ██\n",
      "██          ██\n",
      "██████████████\n",
      "\n",
      "██████████████\n",
      "██  ☺ ██   1██\n",
      "██    ██    ██\n",
      "██    ██    ██\n",
      "██    ██    ██\n",
      "██          ██\n",
      "██████████████\n"
     ]
    }
   ],
   "source": [
    "env.render(); # show maze\n",
    "env.step(1);  # step to the right\n",
    "env.render(); # show maze again"
   ]
  },
  {
   "cell_type": "markdown",
   "metadata": {},
   "source": [
    "# q learning\n",
    "We can learn policies using action-value based tabular approaches, each of which acts $\\epsilon$-greedy with respect to $\\hat{q}(s,a)$."
   ]
  },
  {
   "cell_type": "code",
   "execution_count": 3,
   "metadata": {},
   "outputs": [
    {
     "data": {
      "image/png": "[encoded data removed]",
      "text/plain": [
       "<Figure size 432x288 with 1 Axes>"
      ]
     },
     "metadata": {
      "needs_background": "light"
     },
     "output_type": "display_data"
    }
   ],
   "source": [
    "# set up Q Learning object\n",
    "ctl_q = Control.QLearning(env)\n",
    "\n",
    "# train, recording number of steps per episode\n",
    "steps_q, rewards_q = ctl_q.train(alpha=.05, gamma=1, epsilon=.05, episodes=1000);\n",
    "\n",
    "# plot steps per episode\n",
    "ax = plt.axes(xlabel='episode', ylabel='steps')\n",
    "ax.plot(steps_q);"
   ]
  },
  {
   "cell_type": "markdown",
   "metadata": {},
   "source": [
    "The number of steps per episode decreases with learning. Nice. Note that episodes terminate automatically after 100 steps if a terminal state hasn't been reached.\n",
    "\n",
    "Let's check out the policy by passing $\\hat{q}(s,a)$ to the environment renderer:"
   ]
  },
  {
   "cell_type": "code",
   "execution_count": 4,
   "metadata": {},
   "outputs": [
    {
     "name": "stdout",
     "output_type": "stream",
     "text": [
      "\n",
      "██████████████\n",
      "██☺ ⇩ ██ ⇨ 1██\n",
      "██⇩ ⇩ ██ ⇨⇧ ██\n",
      "██ ⇨⇩ ██ ⇨⇧ ██\n",
      "██⇩ ⇩ ██⇧ ⇧ ██\n",
      "██ ⇨ ⇨ ⇨⇧ ⇧ ██\n",
      "██████████████\n"
     ]
    }
   ],
   "source": [
    "env.reset()\n",
    "env.render(Q=ctl_q.Q);"
   ]
  },
  {
   "cell_type": "markdown",
   "metadata": {},
   "source": [
    "This looks non-crazy! Let's see how the action-value function changes over time. Below I'm showing the max across actions (left column) and the value for each of four actions as estimated over the first 4 episodes. Structure in the value function emerges super quickly:"
   ]
  },
  {
   "cell_type": "code",
   "execution_count": 5,
   "metadata": {
    "scrolled": false
   },
   "outputs": [
    {
     "name": "stdout",
     "output_type": "stream",
     "text": [
      "episode 1\n"
     ]
    },
    {
     "data": {
      "image/png": "[encoded data removed]",
      "text/plain": [
       "<Figure size 432x288 with 5 Axes>"
      ]
     },
     "metadata": {},
     "output_type": "display_data"
    },
    {
     "name": "stdout",
     "output_type": "stream",
     "text": [
      "episode 2\n"
     ]
    },
    {
     "data": {
      "image/png": "[encoded data removed]",
      "text/plain": [
       "<Figure size 432x288 with 5 Axes>"
      ]
     },
     "metadata": {},
     "output_type": "display_data"
    },
    {
     "name": "stdout",
     "output_type": "stream",
     "text": [
      "episode 3\n"
     ]
    },
    {
     "data": {
      "image/png": "[encoded data removed]",
      "text/plain": [
       "<Figure size 432x288 with 5 Axes>"
      ]
     },
     "metadata": {},
     "output_type": "display_data"
    },
    {
     "name": "stdout",
     "output_type": "stream",
     "text": [
      "episode 4\n"
     ]
    },
    {
     "data": {
      "image/png": "[encoded data removed]",
      "text/plain": [
       "<Figure size 432x288 with 5 Axes>"
      ]
     },
     "metadata": {},
     "output_type": "display_data"
    }
   ],
   "source": [
    "ctl_q.resetQ();  # reset Q to initial values\n",
    "\n",
    "for i in range(1,5):\n",
    "    steps_q, rewards_q = ctl_q.train(alpha=.05, gamma=1, epsilon=.05, episodes=1)\n",
    "    print('episode {}'.format(i))\n",
    "    ctl_q.plotQ();\n",
    "    \n",
    "    "
   ]
  },
  {
   "cell_type": "markdown",
   "metadata": {},
   "source": [
    "# monte carlo\n",
    "\n",
    "Here's a simple implementation of Monte Caro using a non-stationary estimate of the action value function: $\\hat{q}(S_t,A_t) \\leftarrow \\hat{q}(S_t,A_t) + \\alpha[G_t - \\hat{q}(S_t,A_t)]$"
   ]
  },
  {
   "cell_type": "code",
   "execution_count": 6,
   "metadata": {
    "scrolled": true
   },
   "outputs": [
    {
     "name": "stdout",
     "output_type": "stream",
     "text": [
      "\n",
      "██████████████\n",
      "██☺ ⇩ ██ ⇨ 1██\n",
      "██ ⇨⇩ ██⇧ ⇧ ██\n",
      "██ ⇨⇩ ██ ⇨⇧ ██\n",
      "██ ⇨⇩ ██ ⇨⇧ ██\n",
      "██ ⇨ ⇨ ⇨⇧ ⇧ ██\n",
      "██████████████\n"
     ]
    },
    {
     "data": {
      "image/png": "[encoded data removed]",
      "text/plain": [
       "<Figure size 432x288 with 1 Axes>"
      ]
     },
     "metadata": {
      "needs_background": "light"
     },
     "output_type": "display_data"
    }
   ],
   "source": [
    "# set up Monte Carlo object\n",
    "ctl_mc = Control.MonteCarlo(env)\n",
    "\n",
    "# train, recording number of steps per episode\n",
    "steps_mc, rewards_mc = ctl_mc.train(alpha=.05, gamma=1, epsilon=.05, episodes=1000)\n",
    "\n",
    "# show policy\n",
    "env.reset()\n",
    "env.render(Q=ctl_mc.Q);\n",
    "\n",
    "# plot steps per episode\n",
    "ax = plt.axes(xlabel='episode', ylabel='steps')\n",
    "ax.plot(steps_mc);"
   ]
  },
  {
   "cell_type": "markdown",
   "metadata": {},
   "source": [
    "The learning curve is a little goofy. There seems to be an 'aha' moment. The agent has to 'accidentally' discover the terminal location at least once before learning can really occur. This could be a major challenge, especially if the path to the reward were longer than it is."
   ]
  },
  {
   "cell_type": "markdown",
   "metadata": {},
   "source": [
    "# explore vs. exploit maze\n",
    "Default mazes are defined in `rickgrid.mazes`, and include one where an agent should learn to ignore a proximal reward for a big reward that can only be discovered via exploration.\n",
    "\n"
   ]
  },
  {
   "cell_type": "code",
   "execution_count": 7,
   "metadata": {
    "scrolled": true
   },
   "outputs": [
    {
     "name": "stdout",
     "output_type": "stream",
     "text": [
      "\n",
      "████████████████████████████████████████████\n",
      "██☺     ██        ██                      ██\n",
      "██  ██    ██████  ██  ██████████████████  ██\n",
      "██    ██          ██            ██        ██\n",
      "██  ██  ████████  ██  ████████████  ████████\n",
      "██            ██               1██      99██\n",
      "████████████████████████████████████████████\n"
     ]
    }
   ],
   "source": [
    "from rickgrid.mazes import mazes\n",
    "env = gym.make('RickGrid-v0', **mazes[0])\n",
    "env.render();"
   ]
  },
  {
   "cell_type": "markdown",
   "metadata": {},
   "source": [
    "Let's apply our Q-Learning strategy from above:"
   ]
  },
  {
   "cell_type": "code",
   "execution_count": 17,
   "metadata": {
    "scrolled": true
   },
   "outputs": [
    {
     "data": {
      "image/png": "[encoded data removed]",
      "text/plain": [
       "<Figure size 432x288 with 1 Axes>"
      ]
     },
     "metadata": {
      "needs_background": "light"
     },
     "output_type": "display_data"
    },
    {
     "data": {
      "image/png": "[encoded data removed]",
      "text/plain": [
       "<Figure size 576x2304 with 1 Axes>"
      ]
     },
     "metadata": {},
     "output_type": "display_data"
    }
   ],
   "source": [
    "ctl_q = Control.QLearning(env)\n",
    "steps_q, rewards_q = ctl_q.train(alpha=.05, gamma=1, epsilon=.05, episodes=2000)\n",
    "\n",
    "# plot rewards and value function\n",
    "ax = plt.axes(xlabel='episode', ylabel='reward', ylim=[-100,75])\n",
    "ax.plot(rewards_q, color='forestgreen');\n",
    "ctl_q.plotQ(figsize=(8,32), max_only=True)"
   ]
  },
  {
   "cell_type": "markdown",
   "metadata": {},
   "source": [
    "The reward is clearly increasing, but is maxes out around -20 - must lower that what the agent would get if the 99 reward is discovered. The value function reveals why. The corridor with the 1 is drawing the agent in, leaving the more valuable corridor insufficiently explored. Let's fix this:"
   ]
  },
  {
   "cell_type": "markdown",
   "metadata": {},
   "source": [
    "## fix 1: optimism in the face of uncertainty\n",
    "\n",
    "Let's initialize the $\\hat{q}$ with exremely optimistic values of 99. This will encourage the agent to explore the unexplored, and ultimately discover the big reward as a result."
   ]
  },
  {
   "cell_type": "code",
   "execution_count": 25,
   "metadata": {},
   "outputs": [
    {
     "data": {
      "image/png": "[encoded data removed]",
      "text/plain": [
       "<Figure size 432x288 with 1 Axes>"
      ]
     },
     "metadata": {
      "needs_background": "light"
     },
     "output_type": "display_data"
    },
    {
     "data": {
      "image/png": "[encoded data removed]",
      "text/plain": [
       "<Figure size 576x2304 with 1 Axes>"
      ]
     },
     "metadata": {},
     "output_type": "display_data"
    }
   ],
   "source": [
    "ctl_q = Control.QLearning(env, Q_init=99)  # initialize Q with values of 99\n",
    "steps_q, rewards_q = ctl_q.train(alpha=.05, gamma=1, epsilon=.05, episodes=4000)\n",
    "\n",
    "# plot rewards and value function\n",
    "ax = plt.axes(xlabel='episode', ylabel='reward', ylim=[-100,75])\n",
    "ax.plot(rewards_q, color='forestgreen');\n",
    "ctl_q.plotQ(figsize=(8,32), max_only=True)"
   ]
  },
  {
   "cell_type": "markdown",
   "metadata": {},
   "source": [
    "Success! Take a look at the policy below. Some of the states that are never visited under the current policy still have weird actions (like in the lower left corner). This does not affect the performance unless non-greedy actions pull the agent to these unexplored corners of the state space."
   ]
  },
  {
   "cell_type": "code",
   "execution_count": 32,
   "metadata": {},
   "outputs": [
    {
     "name": "stdout",
     "output_type": "stream",
     "text": [
      "\n",
      "████████████████████████████████████████████\n",
      "██☺  ⇨⇩ ██ ⇨ ⇨ ⇨⇩ ██ ⇨ ⇨ ⇨ ⇨ ⇨ ⇨ ⇨ ⇨ ⇨ ⇨⇩ ██\n",
      "██⇧ ██ ⇨⇩ ██████⇩ ██⇧ ██████████████████⇩ ██\n",
      "██⇧  ⇦██ ⇨ ⇨ ⇨ ⇨⇩ ██⇧  ⇦ ⇦ ⇦ ⇦ ⇦██⇩  ⇦ ⇦ ⇦██\n",
      "██⇧ ██⇩ ████████⇩ ██⇧ ████████████⇩ ████████\n",
      "██⇧  ⇦ ⇦ ⇦ ⇦ ⇦██ ⇨ ⇨⇧  ⇦ ⇦ ⇦ ⇦ 1██ ⇨ ⇨ ⇨99██\n",
      "████████████████████████████████████████████\n"
     ]
    }
   ],
   "source": [
    "env.reset()\n",
    "env.render(Q=ctl_q.Q);"
   ]
  },
  {
   "cell_type": "markdown",
   "metadata": {},
   "source": [
    "## fix 2: exploring starts\n",
    "\n",
    "Instead of starting the agent in the top left corner every time, let's randomly position the agent at the beginning of every try. This will ensure that the state space is fully explored, and should fix the weird decisions that are made in unvisisted states in the policy above. We'll need to train it for a bit longer though."
   ]
  },
  {
   "cell_type": "code",
   "execution_count": 34,
   "metadata": {},
   "outputs": [
    {
     "name": "stdout",
     "output_type": "stream",
     "text": [
      "\n",
      "████████████████████████████████████████████\n",
      "██☺  ⇨⇩ ██ ⇨ ⇨ ⇨⇩ ██ ⇨ ⇨ ⇨ ⇨ ⇨ ⇨ ⇨ ⇨ ⇨ ⇨⇩ ██\n",
      "██⇧ ██ ⇨⇩ ██████⇩ ██⇧ ██████████████████⇩ ██\n",
      "██⇧  ⇦██ ⇨ ⇨ ⇨ ⇨⇩ ██⇧  ⇦ ⇦ ⇦ ⇦ ⇦██⇩  ⇦ ⇦ ⇦██\n",
      "██⇧ ██⇩ ████████⇩ ██⇧ ████████████⇩ ████████\n",
      "██⇧  ⇦ ⇦ ⇦ ⇦ ⇦██ ⇨ ⇨⇧  ⇦ ⇦ ⇦ ⇦ 1██ ⇨ ⇨ ⇨99██\n",
      "████████████████████████████████████████████\n"
     ]
    }
   ],
   "source": [
    "env_rando = gym.make('RickGrid-v0', **mazes[0], random_start=True)\n",
    "ctl_q = Control.QLearning(env_rando, Q_init=99)  # initialize Q with values of 99\n",
    "steps_q, rewards_q = ctl_q.train(alpha=.05, gamma=1, epsilon=.05, episodes=10000)\n",
    "\n",
    "# plot the policy\n",
    "env_rando.reset(start_coords=[0,0])\n",
    "env_rando.render(Q=ctl_q.Q);"
   ]
  },
  {
   "cell_type": "markdown",
   "metadata": {},
   "source": [
    "That is the perfect policy!"
   ]
  }
 ],
 "metadata": {
  "kernelspec": {
   "display_name": "Python 3",
   "language": "python",
   "name": "python3"
  },
  "language_info": {
   "codemirror_mode": {
    "name": "ipython",
    "version": 3
   },
   "file_extension": ".py",
   "mimetype": "text/x-python",
   "name": "python",
   "nbconvert_exporter": "python",
   "pygments_lexer": "ipython3",
   "version": "3.8.3"
  }
 },
 "nbformat": 4,
 "nbformat_minor": 4
}
