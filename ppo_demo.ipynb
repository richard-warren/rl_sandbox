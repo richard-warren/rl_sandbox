{
 "cells": [
  {
   "cell_type": "code",
   "execution_count": 1,
   "metadata": {},
   "outputs": [],
   "source": [
    "%matplotlib inline\n",
    "%load_ext autoreload\n",
    "%autoreload 2\n",
    "from jax.experimental import stax\n",
    "import matplotlib.pyplot as plt\n",
    "from dm_control import suite\n",
    "import numpy as np\n",
    "import jax"
   ]
  },
  {
   "cell_type": "code",
   "execution_count": null,
   "metadata": {},
   "outputs": [],
   "source": [
    "'''\n",
    "class actor_critic\n",
    "- mlp (shared params for now)\n",
    "- forward\n",
    "- getactionprobs?\n",
    "\n",
    "class PPO\n",
    "- memory(states, actions, rewards, action_probs, is_terminal)\n",
    "- actor_critic\n",
    "- loss(params, memories)\n",
    "- update(params)\n",
    "    for n_updates:\n",
    "        for minibatch in memories: (importance sampling?)\n",
    "            grads = dloss(params, memories)\n",
    "            update model params\n",
    "        clear memory\n",
    "\n",
    "train(env, max_episodes, batch_size, minibatch_size, \n",
    "      K, eps_clip, gamma, lr, lambda, gamma)\n",
    "      \n",
    "      make env\n",
    "      make ppo\n",
    "      while epochs<epochs:\n",
    "          get exp, add to memory\n",
    "          if nmemories==batch_size:\n",
    "              update\n",
    "              epochs += 1\n",
    "          \n",
    "'''"
   ]
  },
  {
   "cell_type": "code",
   "execution_count": 7,
   "metadata": {},
   "outputs": [],
   "source": [
    "# dm_control wrapper\n",
    "class Env():\n",
    "    def __init__(self, domain, task):\n",
    "        self.env = suite.load(domain, task)\n",
    "        time_step = self.env.reset()\n",
    "        self.action_dim = self.env.action_spec().shape[0]\n",
    "        self.state_dim = len(self.process_time_step(time_step)[0])\n",
    "    \n",
    "    def step(self, action):\n",
    "        timestep = self.env.step(action)\n",
    "        return self.process_time_step(timestep)\n",
    "        \n",
    "    def reset(self):\n",
    "        return self.process_time_step(self.env.reset())\n",
    "        \n",
    "    @staticmethod\n",
    "    def process_time_step(time_step):\n",
    "        \"\"\" Convert 'dm_env._environment.TimeStep' to (state, reward, done) \"\"\"\n",
    "        state = np.hstack([v for v in time_step.observation.values()])\n",
    "        return state, time_step.reward, time_step.last()"
   ]
  },
  {
   "cell_type": "code",
   "execution_count": 11,
   "metadata": {},
   "outputs": [
    {
     "data": {
      "text/plain": [
       "21"
      ]
     },
     "execution_count": 11,
     "metadata": {},
     "output_type": "execute_result"
    }
   ],
   "source": [
    "env = Env('fish', 'upright')\n",
    "env.step([0,0,0,0,0])\n",
    "env.state_dim"
   ]
  },
  {
   "cell_type": "code",
   "execution_count": 11,
   "metadata": {},
   "outputs": [],
   "source": [
    "def mlp(key, input_dim, output_dim, hidden_layers=(64,32)):\n",
    "    layers = []\n",
    "    \n",
    "    for hl in hidden_layers:\n",
    "        layers += [stax.Dense(hl), stax.Tanh()]\n",
    "    layers.append(stax.Dense(output_dim))\n",
    "    \n",
    "    init_fun, apply_fun = stax.serial(*layers)\n",
    "    params = init_fun(key, -1, input_dim)\n",
    "    \n",
    "    return apply_fun, params\n",
    "\n",
    "\n",
    "\n",
    "\n",
    "        \n",
    "\n",
    "\n",
    "        "
   ]
  },
  {
   "cell_type": "code",
   "execution_count": 14,
   "metadata": {},
   "outputs": [],
   "source": [
    "class ActorCritic():\n",
    "    \n",
    "    def __init__(state_dim, action_dim, seed=0,\n",
    "                 actor_hlayers=(64,32), critic_hlayers=(64,32)):\n",
    "        \n",
    "        key  = jax.random.PRNGKey(seed)\n",
    "        keys = jax.random.split(key, num=2)\n",
    "        \n",
    "        self.actor, actor_params   = mlp(keys[0], state_dim, action_dim, actor_hlayers)\n",
    "        self.critic, critic_params = mlp(keys[1], state_dim, 1, critic_hlayers)\n",
    "        self.params = {'actor': actor_params, 'critic': critic_params}\n",
    "    \n",
    "    def act(state: np.array, std):\n",
    "#         return action, action_prob\n",
    "        pass\n",
    "    \n",
    "    def evaluate(state: np.array, action: np.array, std):\n",
    "#         return action_prob, value, entropy\n",
    "        pass"
   ]
  },
  {
   "cell_type": "markdown",
   "metadata": {},
   "source": [
    "# tests"
   ]
  },
  {
   "cell_type": "code",
   "execution_count": null,
   "metadata": {},
   "outputs": [],
   "source": []
  }
 ],
 "metadata": {
  "kernelspec": {
   "display_name": "Python 3",
   "language": "python",
   "name": "python3"
  },
  "language_info": {
   "codemirror_mode": {
    "name": "ipython",
    "version": 3
   },
   "file_extension": ".py",
   "mimetype": "text/x-python",
   "name": "python",
   "nbconvert_exporter": "python",
   "pygments_lexer": "ipython3",
   "version": "3.7.7"
  }
 },
 "nbformat": 4,
 "nbformat_minor": 4
}
